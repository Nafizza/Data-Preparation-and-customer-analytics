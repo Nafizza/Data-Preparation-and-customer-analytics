{
 "cells": [
  {
   "cell_type": "code",
   "execution_count": 2,
   "id": "7b2a169b",
   "metadata": {},
   "outputs": [],
   "source": [
    "import pandas as pd"
   ]
  },
  {
   "cell_type": "code",
   "execution_count": 3,
   "id": "8a7de3dc",
   "metadata": {},
   "outputs": [],
   "source": [
    "import numpy as np"
   ]
  },
  {
   "cell_type": "code",
   "execution_count": 4,
   "id": "1c10a4e4",
   "metadata": {},
   "outputs": [],
   "source": [
    "import seaborn as sb"
   ]
  },
  {
   "cell_type": "code",
   "execution_count": 5,
   "id": "d8fd8374",
   "metadata": {},
   "outputs": [],
   "source": [
    "datapurchase = pd.read_csv('QVI_purchase_behaviour.csv')"
   ]
  },
  {
   "cell_type": "code",
   "execution_count": 6,
   "id": "4e227321",
   "metadata": {},
   "outputs": [
    {
     "data": {
      "text/html": [
       "<div>\n",
       "<style scoped>\n",
       "    .dataframe tbody tr th:only-of-type {\n",
       "        vertical-align: middle;\n",
       "    }\n",
       "\n",
       "    .dataframe tbody tr th {\n",
       "        vertical-align: top;\n",
       "    }\n",
       "\n",
       "    .dataframe thead th {\n",
       "        text-align: right;\n",
       "    }\n",
       "</style>\n",
       "<table border=\"1\" class=\"dataframe\">\n",
       "  <thead>\n",
       "    <tr style=\"text-align: right;\">\n",
       "      <th></th>\n",
       "      <th>LYLTY_CARD_NBR</th>\n",
       "      <th>LIFESTAGE</th>\n",
       "      <th>PREMIUM_CUSTOMER</th>\n",
       "    </tr>\n",
       "  </thead>\n",
       "  <tbody>\n",
       "    <tr>\n",
       "      <th>0</th>\n",
       "      <td>1000</td>\n",
       "      <td>YOUNG SINGLES/COUPLES</td>\n",
       "      <td>Premium</td>\n",
       "    </tr>\n",
       "    <tr>\n",
       "      <th>1</th>\n",
       "      <td>1002</td>\n",
       "      <td>YOUNG SINGLES/COUPLES</td>\n",
       "      <td>Mainstream</td>\n",
       "    </tr>\n",
       "    <tr>\n",
       "      <th>2</th>\n",
       "      <td>1003</td>\n",
       "      <td>YOUNG FAMILIES</td>\n",
       "      <td>Budget</td>\n",
       "    </tr>\n",
       "    <tr>\n",
       "      <th>3</th>\n",
       "      <td>1004</td>\n",
       "      <td>OLDER SINGLES/COUPLES</td>\n",
       "      <td>Mainstream</td>\n",
       "    </tr>\n",
       "    <tr>\n",
       "      <th>4</th>\n",
       "      <td>1005</td>\n",
       "      <td>MIDAGE SINGLES/COUPLES</td>\n",
       "      <td>Mainstream</td>\n",
       "    </tr>\n",
       "  </tbody>\n",
       "</table>\n",
       "</div>"
      ],
      "text/plain": [
       "   LYLTY_CARD_NBR               LIFESTAGE PREMIUM_CUSTOMER\n",
       "0            1000   YOUNG SINGLES/COUPLES          Premium\n",
       "1            1002   YOUNG SINGLES/COUPLES       Mainstream\n",
       "2            1003          YOUNG FAMILIES           Budget\n",
       "3            1004   OLDER SINGLES/COUPLES       Mainstream\n",
       "4            1005  MIDAGE SINGLES/COUPLES       Mainstream"
      ]
     },
     "execution_count": 6,
     "metadata": {},
     "output_type": "execute_result"
    }
   ],
   "source": [
    "datapurchase.head()"
   ]
  },
  {
   "cell_type": "code",
   "execution_count": 7,
   "id": "74c7b92d",
   "metadata": {},
   "outputs": [],
   "source": [
    "datatransaction = pd.read_excel('QVI_transaction_data.xlsx')"
   ]
  },
  {
   "cell_type": "code",
   "execution_count": 8,
   "id": "950f1b3e",
   "metadata": {},
   "outputs": [
    {
     "data": {
      "text/html": [
       "<div>\n",
       "<style scoped>\n",
       "    .dataframe tbody tr th:only-of-type {\n",
       "        vertical-align: middle;\n",
       "    }\n",
       "\n",
       "    .dataframe tbody tr th {\n",
       "        vertical-align: top;\n",
       "    }\n",
       "\n",
       "    .dataframe thead th {\n",
       "        text-align: right;\n",
       "    }\n",
       "</style>\n",
       "<table border=\"1\" class=\"dataframe\">\n",
       "  <thead>\n",
       "    <tr style=\"text-align: right;\">\n",
       "      <th></th>\n",
       "      <th>DATE</th>\n",
       "      <th>STORE_NBR</th>\n",
       "      <th>LYLTY_CARD_NBR</th>\n",
       "      <th>TXN_ID</th>\n",
       "      <th>PROD_NBR</th>\n",
       "      <th>PROD_NAME</th>\n",
       "      <th>PROD_QTY</th>\n",
       "      <th>TOT_SALES</th>\n",
       "    </tr>\n",
       "  </thead>\n",
       "  <tbody>\n",
       "    <tr>\n",
       "      <th>0</th>\n",
       "      <td>43390</td>\n",
       "      <td>1</td>\n",
       "      <td>1000</td>\n",
       "      <td>1</td>\n",
       "      <td>5</td>\n",
       "      <td>Natural Chip        Compny SeaSalt175g</td>\n",
       "      <td>2</td>\n",
       "      <td>6.0</td>\n",
       "    </tr>\n",
       "    <tr>\n",
       "      <th>1</th>\n",
       "      <td>43599</td>\n",
       "      <td>1</td>\n",
       "      <td>1307</td>\n",
       "      <td>348</td>\n",
       "      <td>66</td>\n",
       "      <td>CCs Nacho Cheese    175g</td>\n",
       "      <td>3</td>\n",
       "      <td>6.3</td>\n",
       "    </tr>\n",
       "    <tr>\n",
       "      <th>2</th>\n",
       "      <td>43605</td>\n",
       "      <td>1</td>\n",
       "      <td>1343</td>\n",
       "      <td>383</td>\n",
       "      <td>61</td>\n",
       "      <td>Smiths Crinkle Cut  Chips Chicken 170g</td>\n",
       "      <td>2</td>\n",
       "      <td>2.9</td>\n",
       "    </tr>\n",
       "    <tr>\n",
       "      <th>3</th>\n",
       "      <td>43329</td>\n",
       "      <td>2</td>\n",
       "      <td>2373</td>\n",
       "      <td>974</td>\n",
       "      <td>69</td>\n",
       "      <td>Smiths Chip Thinly  S/Cream&amp;Onion 175g</td>\n",
       "      <td>5</td>\n",
       "      <td>15.0</td>\n",
       "    </tr>\n",
       "    <tr>\n",
       "      <th>4</th>\n",
       "      <td>43330</td>\n",
       "      <td>2</td>\n",
       "      <td>2426</td>\n",
       "      <td>1038</td>\n",
       "      <td>108</td>\n",
       "      <td>Kettle Tortilla ChpsHny&amp;Jlpno Chili 150g</td>\n",
       "      <td>3</td>\n",
       "      <td>13.8</td>\n",
       "    </tr>\n",
       "  </tbody>\n",
       "</table>\n",
       "</div>"
      ],
      "text/plain": [
       "    DATE  STORE_NBR  LYLTY_CARD_NBR  TXN_ID  PROD_NBR  \\\n",
       "0  43390          1            1000       1         5   \n",
       "1  43599          1            1307     348        66   \n",
       "2  43605          1            1343     383        61   \n",
       "3  43329          2            2373     974        69   \n",
       "4  43330          2            2426    1038       108   \n",
       "\n",
       "                                  PROD_NAME  PROD_QTY  TOT_SALES  \n",
       "0    Natural Chip        Compny SeaSalt175g         2        6.0  \n",
       "1                  CCs Nacho Cheese    175g         3        6.3  \n",
       "2    Smiths Crinkle Cut  Chips Chicken 170g         2        2.9  \n",
       "3    Smiths Chip Thinly  S/Cream&Onion 175g         5       15.0  \n",
       "4  Kettle Tortilla ChpsHny&Jlpno Chili 150g         3       13.8  "
      ]
     },
     "execution_count": 8,
     "metadata": {},
     "output_type": "execute_result"
    }
   ],
   "source": [
    "datatransaction.head()"
   ]
  },
  {
   "cell_type": "code",
   "execution_count": 9,
   "id": "4011b8b4",
   "metadata": {},
   "outputs": [
    {
     "data": {
      "text/html": [
       "<div>\n",
       "<style scoped>\n",
       "    .dataframe tbody tr th:only-of-type {\n",
       "        vertical-align: middle;\n",
       "    }\n",
       "\n",
       "    .dataframe tbody tr th {\n",
       "        vertical-align: top;\n",
       "    }\n",
       "\n",
       "    .dataframe thead th {\n",
       "        text-align: right;\n",
       "    }\n",
       "</style>\n",
       "<table border=\"1\" class=\"dataframe\">\n",
       "  <thead>\n",
       "    <tr style=\"text-align: right;\">\n",
       "      <th></th>\n",
       "      <th>LYLTY_CARD_NBR</th>\n",
       "    </tr>\n",
       "  </thead>\n",
       "  <tbody>\n",
       "    <tr>\n",
       "      <th>count</th>\n",
       "      <td>7.263700e+04</td>\n",
       "    </tr>\n",
       "    <tr>\n",
       "      <th>mean</th>\n",
       "      <td>1.361859e+05</td>\n",
       "    </tr>\n",
       "    <tr>\n",
       "      <th>std</th>\n",
       "      <td>8.989293e+04</td>\n",
       "    </tr>\n",
       "    <tr>\n",
       "      <th>min</th>\n",
       "      <td>1.000000e+03</td>\n",
       "    </tr>\n",
       "    <tr>\n",
       "      <th>25%</th>\n",
       "      <td>6.620200e+04</td>\n",
       "    </tr>\n",
       "    <tr>\n",
       "      <th>50%</th>\n",
       "      <td>1.340400e+05</td>\n",
       "    </tr>\n",
       "    <tr>\n",
       "      <th>75%</th>\n",
       "      <td>2.033750e+05</td>\n",
       "    </tr>\n",
       "    <tr>\n",
       "      <th>max</th>\n",
       "      <td>2.373711e+06</td>\n",
       "    </tr>\n",
       "  </tbody>\n",
       "</table>\n",
       "</div>"
      ],
      "text/plain": [
       "       LYLTY_CARD_NBR\n",
       "count    7.263700e+04\n",
       "mean     1.361859e+05\n",
       "std      8.989293e+04\n",
       "min      1.000000e+03\n",
       "25%      6.620200e+04\n",
       "50%      1.340400e+05\n",
       "75%      2.033750e+05\n",
       "max      2.373711e+06"
      ]
     },
     "execution_count": 9,
     "metadata": {},
     "output_type": "execute_result"
    }
   ],
   "source": [
    "datapurchase.describe()"
   ]
  },
  {
   "cell_type": "code",
   "execution_count": 10,
   "id": "bbe90e2b",
   "metadata": {},
   "outputs": [
    {
     "data": {
      "text/html": [
       "<div>\n",
       "<style scoped>\n",
       "    .dataframe tbody tr th:only-of-type {\n",
       "        vertical-align: middle;\n",
       "    }\n",
       "\n",
       "    .dataframe tbody tr th {\n",
       "        vertical-align: top;\n",
       "    }\n",
       "\n",
       "    .dataframe thead th {\n",
       "        text-align: right;\n",
       "    }\n",
       "</style>\n",
       "<table border=\"1\" class=\"dataframe\">\n",
       "  <thead>\n",
       "    <tr style=\"text-align: right;\">\n",
       "      <th></th>\n",
       "      <th>DATE</th>\n",
       "      <th>STORE_NBR</th>\n",
       "      <th>LYLTY_CARD_NBR</th>\n",
       "      <th>TXN_ID</th>\n",
       "      <th>PROD_NBR</th>\n",
       "      <th>PROD_QTY</th>\n",
       "      <th>TOT_SALES</th>\n",
       "    </tr>\n",
       "  </thead>\n",
       "  <tbody>\n",
       "    <tr>\n",
       "      <th>count</th>\n",
       "      <td>264836.000000</td>\n",
       "      <td>264836.00000</td>\n",
       "      <td>2.648360e+05</td>\n",
       "      <td>2.648360e+05</td>\n",
       "      <td>264836.000000</td>\n",
       "      <td>264836.000000</td>\n",
       "      <td>264836.000000</td>\n",
       "    </tr>\n",
       "    <tr>\n",
       "      <th>mean</th>\n",
       "      <td>43464.036260</td>\n",
       "      <td>135.08011</td>\n",
       "      <td>1.355495e+05</td>\n",
       "      <td>1.351583e+05</td>\n",
       "      <td>56.583157</td>\n",
       "      <td>1.907309</td>\n",
       "      <td>7.304200</td>\n",
       "    </tr>\n",
       "    <tr>\n",
       "      <th>std</th>\n",
       "      <td>105.389282</td>\n",
       "      <td>76.78418</td>\n",
       "      <td>8.057998e+04</td>\n",
       "      <td>7.813303e+04</td>\n",
       "      <td>32.826638</td>\n",
       "      <td>0.643654</td>\n",
       "      <td>3.083226</td>\n",
       "    </tr>\n",
       "    <tr>\n",
       "      <th>min</th>\n",
       "      <td>43282.000000</td>\n",
       "      <td>1.00000</td>\n",
       "      <td>1.000000e+03</td>\n",
       "      <td>1.000000e+00</td>\n",
       "      <td>1.000000</td>\n",
       "      <td>1.000000</td>\n",
       "      <td>1.500000</td>\n",
       "    </tr>\n",
       "    <tr>\n",
       "      <th>25%</th>\n",
       "      <td>43373.000000</td>\n",
       "      <td>70.00000</td>\n",
       "      <td>7.002100e+04</td>\n",
       "      <td>6.760150e+04</td>\n",
       "      <td>28.000000</td>\n",
       "      <td>2.000000</td>\n",
       "      <td>5.400000</td>\n",
       "    </tr>\n",
       "    <tr>\n",
       "      <th>50%</th>\n",
       "      <td>43464.000000</td>\n",
       "      <td>130.00000</td>\n",
       "      <td>1.303575e+05</td>\n",
       "      <td>1.351375e+05</td>\n",
       "      <td>56.000000</td>\n",
       "      <td>2.000000</td>\n",
       "      <td>7.400000</td>\n",
       "    </tr>\n",
       "    <tr>\n",
       "      <th>75%</th>\n",
       "      <td>43555.000000</td>\n",
       "      <td>203.00000</td>\n",
       "      <td>2.030942e+05</td>\n",
       "      <td>2.027012e+05</td>\n",
       "      <td>85.000000</td>\n",
       "      <td>2.000000</td>\n",
       "      <td>9.200000</td>\n",
       "    </tr>\n",
       "    <tr>\n",
       "      <th>max</th>\n",
       "      <td>43646.000000</td>\n",
       "      <td>272.00000</td>\n",
       "      <td>2.373711e+06</td>\n",
       "      <td>2.415841e+06</td>\n",
       "      <td>114.000000</td>\n",
       "      <td>200.000000</td>\n",
       "      <td>650.000000</td>\n",
       "    </tr>\n",
       "  </tbody>\n",
       "</table>\n",
       "</div>"
      ],
      "text/plain": [
       "                DATE     STORE_NBR  LYLTY_CARD_NBR        TXN_ID  \\\n",
       "count  264836.000000  264836.00000    2.648360e+05  2.648360e+05   \n",
       "mean    43464.036260     135.08011    1.355495e+05  1.351583e+05   \n",
       "std       105.389282      76.78418    8.057998e+04  7.813303e+04   \n",
       "min     43282.000000       1.00000    1.000000e+03  1.000000e+00   \n",
       "25%     43373.000000      70.00000    7.002100e+04  6.760150e+04   \n",
       "50%     43464.000000     130.00000    1.303575e+05  1.351375e+05   \n",
       "75%     43555.000000     203.00000    2.030942e+05  2.027012e+05   \n",
       "max     43646.000000     272.00000    2.373711e+06  2.415841e+06   \n",
       "\n",
       "            PROD_NBR       PROD_QTY      TOT_SALES  \n",
       "count  264836.000000  264836.000000  264836.000000  \n",
       "mean       56.583157       1.907309       7.304200  \n",
       "std        32.826638       0.643654       3.083226  \n",
       "min         1.000000       1.000000       1.500000  \n",
       "25%        28.000000       2.000000       5.400000  \n",
       "50%        56.000000       2.000000       7.400000  \n",
       "75%        85.000000       2.000000       9.200000  \n",
       "max       114.000000     200.000000     650.000000  "
      ]
     },
     "execution_count": 10,
     "metadata": {},
     "output_type": "execute_result"
    }
   ],
   "source": [
    "datatransaction.describe()"
   ]
  },
  {
   "cell_type": "code",
   "execution_count": 11,
   "id": "fbe98a63",
   "metadata": {},
   "outputs": [
    {
     "data": {
      "text/plain": [
       "LYLTY_CARD_NBR      0\n",
       "LIFESTAGE           0\n",
       "PREMIUM_CUSTOMER    0\n",
       "dtype: int64"
      ]
     },
     "execution_count": 11,
     "metadata": {},
     "output_type": "execute_result"
    }
   ],
   "source": [
    "datapurchase.isnull().sum()"
   ]
  },
  {
   "cell_type": "code",
   "execution_count": 12,
   "id": "6e79683a",
   "metadata": {},
   "outputs": [
    {
     "data": {
      "text/plain": [
       "DATE              0\n",
       "STORE_NBR         0\n",
       "LYLTY_CARD_NBR    0\n",
       "TXN_ID            0\n",
       "PROD_NBR          0\n",
       "PROD_NAME         0\n",
       "PROD_QTY          0\n",
       "TOT_SALES         0\n",
       "dtype: int64"
      ]
     },
     "execution_count": 12,
     "metadata": {},
     "output_type": "execute_result"
    }
   ],
   "source": [
    "datatransaction.isnull().sum()"
   ]
  },
  {
   "cell_type": "code",
   "execution_count": 13,
   "id": "338083eb",
   "metadata": {},
   "outputs": [],
   "source": [
    "data = pd.merge(datatransaction, datapurchase, on = \"LYLTY_CARD_NBR\", how = 'left')"
   ]
  },
  {
   "cell_type": "code",
   "execution_count": 14,
   "id": "3716e157",
   "metadata": {},
   "outputs": [
    {
     "data": {
      "text/html": [
       "<div>\n",
       "<style scoped>\n",
       "    .dataframe tbody tr th:only-of-type {\n",
       "        vertical-align: middle;\n",
       "    }\n",
       "\n",
       "    .dataframe tbody tr th {\n",
       "        vertical-align: top;\n",
       "    }\n",
       "\n",
       "    .dataframe thead th {\n",
       "        text-align: right;\n",
       "    }\n",
       "</style>\n",
       "<table border=\"1\" class=\"dataframe\">\n",
       "  <thead>\n",
       "    <tr style=\"text-align: right;\">\n",
       "      <th></th>\n",
       "      <th>DATE</th>\n",
       "      <th>STORE_NBR</th>\n",
       "      <th>LYLTY_CARD_NBR</th>\n",
       "      <th>TXN_ID</th>\n",
       "      <th>PROD_NBR</th>\n",
       "      <th>PROD_NAME</th>\n",
       "      <th>PROD_QTY</th>\n",
       "      <th>TOT_SALES</th>\n",
       "      <th>LIFESTAGE</th>\n",
       "      <th>PREMIUM_CUSTOMER</th>\n",
       "    </tr>\n",
       "  </thead>\n",
       "  <tbody>\n",
       "    <tr>\n",
       "      <th>0</th>\n",
       "      <td>43390</td>\n",
       "      <td>1</td>\n",
       "      <td>1000</td>\n",
       "      <td>1</td>\n",
       "      <td>5</td>\n",
       "      <td>Natural Chip        Compny SeaSalt175g</td>\n",
       "      <td>2</td>\n",
       "      <td>6.0</td>\n",
       "      <td>YOUNG SINGLES/COUPLES</td>\n",
       "      <td>Premium</td>\n",
       "    </tr>\n",
       "    <tr>\n",
       "      <th>1</th>\n",
       "      <td>43599</td>\n",
       "      <td>1</td>\n",
       "      <td>1307</td>\n",
       "      <td>348</td>\n",
       "      <td>66</td>\n",
       "      <td>CCs Nacho Cheese    175g</td>\n",
       "      <td>3</td>\n",
       "      <td>6.3</td>\n",
       "      <td>MIDAGE SINGLES/COUPLES</td>\n",
       "      <td>Budget</td>\n",
       "    </tr>\n",
       "    <tr>\n",
       "      <th>2</th>\n",
       "      <td>43605</td>\n",
       "      <td>1</td>\n",
       "      <td>1343</td>\n",
       "      <td>383</td>\n",
       "      <td>61</td>\n",
       "      <td>Smiths Crinkle Cut  Chips Chicken 170g</td>\n",
       "      <td>2</td>\n",
       "      <td>2.9</td>\n",
       "      <td>MIDAGE SINGLES/COUPLES</td>\n",
       "      <td>Budget</td>\n",
       "    </tr>\n",
       "    <tr>\n",
       "      <th>3</th>\n",
       "      <td>43329</td>\n",
       "      <td>2</td>\n",
       "      <td>2373</td>\n",
       "      <td>974</td>\n",
       "      <td>69</td>\n",
       "      <td>Smiths Chip Thinly  S/Cream&amp;Onion 175g</td>\n",
       "      <td>5</td>\n",
       "      <td>15.0</td>\n",
       "      <td>MIDAGE SINGLES/COUPLES</td>\n",
       "      <td>Budget</td>\n",
       "    </tr>\n",
       "    <tr>\n",
       "      <th>4</th>\n",
       "      <td>43330</td>\n",
       "      <td>2</td>\n",
       "      <td>2426</td>\n",
       "      <td>1038</td>\n",
       "      <td>108</td>\n",
       "      <td>Kettle Tortilla ChpsHny&amp;Jlpno Chili 150g</td>\n",
       "      <td>3</td>\n",
       "      <td>13.8</td>\n",
       "      <td>MIDAGE SINGLES/COUPLES</td>\n",
       "      <td>Budget</td>\n",
       "    </tr>\n",
       "    <tr>\n",
       "      <th>...</th>\n",
       "      <td>...</td>\n",
       "      <td>...</td>\n",
       "      <td>...</td>\n",
       "      <td>...</td>\n",
       "      <td>...</td>\n",
       "      <td>...</td>\n",
       "      <td>...</td>\n",
       "      <td>...</td>\n",
       "      <td>...</td>\n",
       "      <td>...</td>\n",
       "    </tr>\n",
       "    <tr>\n",
       "      <th>264831</th>\n",
       "      <td>43533</td>\n",
       "      <td>272</td>\n",
       "      <td>272319</td>\n",
       "      <td>270088</td>\n",
       "      <td>89</td>\n",
       "      <td>Kettle Sweet Chilli And Sour Cream 175g</td>\n",
       "      <td>2</td>\n",
       "      <td>10.8</td>\n",
       "      <td>YOUNG SINGLES/COUPLES</td>\n",
       "      <td>Premium</td>\n",
       "    </tr>\n",
       "    <tr>\n",
       "      <th>264832</th>\n",
       "      <td>43325</td>\n",
       "      <td>272</td>\n",
       "      <td>272358</td>\n",
       "      <td>270154</td>\n",
       "      <td>74</td>\n",
       "      <td>Tostitos Splash Of  Lime 175g</td>\n",
       "      <td>1</td>\n",
       "      <td>4.4</td>\n",
       "      <td>YOUNG SINGLES/COUPLES</td>\n",
       "      <td>Premium</td>\n",
       "    </tr>\n",
       "    <tr>\n",
       "      <th>264833</th>\n",
       "      <td>43410</td>\n",
       "      <td>272</td>\n",
       "      <td>272379</td>\n",
       "      <td>270187</td>\n",
       "      <td>51</td>\n",
       "      <td>Doritos Mexicana    170g</td>\n",
       "      <td>2</td>\n",
       "      <td>8.8</td>\n",
       "      <td>YOUNG SINGLES/COUPLES</td>\n",
       "      <td>Premium</td>\n",
       "    </tr>\n",
       "    <tr>\n",
       "      <th>264834</th>\n",
       "      <td>43461</td>\n",
       "      <td>272</td>\n",
       "      <td>272379</td>\n",
       "      <td>270188</td>\n",
       "      <td>42</td>\n",
       "      <td>Doritos Corn Chip Mexican Jalapeno 150g</td>\n",
       "      <td>2</td>\n",
       "      <td>7.8</td>\n",
       "      <td>YOUNG SINGLES/COUPLES</td>\n",
       "      <td>Premium</td>\n",
       "    </tr>\n",
       "    <tr>\n",
       "      <th>264835</th>\n",
       "      <td>43365</td>\n",
       "      <td>272</td>\n",
       "      <td>272380</td>\n",
       "      <td>270189</td>\n",
       "      <td>74</td>\n",
       "      <td>Tostitos Splash Of  Lime 175g</td>\n",
       "      <td>2</td>\n",
       "      <td>8.8</td>\n",
       "      <td>YOUNG SINGLES/COUPLES</td>\n",
       "      <td>Premium</td>\n",
       "    </tr>\n",
       "  </tbody>\n",
       "</table>\n",
       "<p>264836 rows × 10 columns</p>\n",
       "</div>"
      ],
      "text/plain": [
       "         DATE  STORE_NBR  LYLTY_CARD_NBR  TXN_ID  PROD_NBR  \\\n",
       "0       43390          1            1000       1         5   \n",
       "1       43599          1            1307     348        66   \n",
       "2       43605          1            1343     383        61   \n",
       "3       43329          2            2373     974        69   \n",
       "4       43330          2            2426    1038       108   \n",
       "...       ...        ...             ...     ...       ...   \n",
       "264831  43533        272          272319  270088        89   \n",
       "264832  43325        272          272358  270154        74   \n",
       "264833  43410        272          272379  270187        51   \n",
       "264834  43461        272          272379  270188        42   \n",
       "264835  43365        272          272380  270189        74   \n",
       "\n",
       "                                       PROD_NAME  PROD_QTY  TOT_SALES  \\\n",
       "0         Natural Chip        Compny SeaSalt175g         2        6.0   \n",
       "1                       CCs Nacho Cheese    175g         3        6.3   \n",
       "2         Smiths Crinkle Cut  Chips Chicken 170g         2        2.9   \n",
       "3         Smiths Chip Thinly  S/Cream&Onion 175g         5       15.0   \n",
       "4       Kettle Tortilla ChpsHny&Jlpno Chili 150g         3       13.8   \n",
       "...                                          ...       ...        ...   \n",
       "264831   Kettle Sweet Chilli And Sour Cream 175g         2       10.8   \n",
       "264832             Tostitos Splash Of  Lime 175g         1        4.4   \n",
       "264833                  Doritos Mexicana    170g         2        8.8   \n",
       "264834   Doritos Corn Chip Mexican Jalapeno 150g         2        7.8   \n",
       "264835             Tostitos Splash Of  Lime 175g         2        8.8   \n",
       "\n",
       "                     LIFESTAGE PREMIUM_CUSTOMER  \n",
       "0        YOUNG SINGLES/COUPLES          Premium  \n",
       "1       MIDAGE SINGLES/COUPLES           Budget  \n",
       "2       MIDAGE SINGLES/COUPLES           Budget  \n",
       "3       MIDAGE SINGLES/COUPLES           Budget  \n",
       "4       MIDAGE SINGLES/COUPLES           Budget  \n",
       "...                        ...              ...  \n",
       "264831   YOUNG SINGLES/COUPLES          Premium  \n",
       "264832   YOUNG SINGLES/COUPLES          Premium  \n",
       "264833   YOUNG SINGLES/COUPLES          Premium  \n",
       "264834   YOUNG SINGLES/COUPLES          Premium  \n",
       "264835   YOUNG SINGLES/COUPLES          Premium  \n",
       "\n",
       "[264836 rows x 10 columns]"
      ]
     },
     "execution_count": 14,
     "metadata": {},
     "output_type": "execute_result"
    }
   ],
   "source": [
    "data"
   ]
  },
  {
   "cell_type": "code",
   "execution_count": 15,
   "id": "b8a004e0",
   "metadata": {},
   "outputs": [],
   "source": [
    "data = data.rename(columns = {\"LYLTY_CARD_NBR\": \"Card Number\",\n",
    "                             \"LIFESTAGE\" : \"Group\",\n",
    "                             \"PREMIUM_CUSTOMER\" : \"Subscription\" ,\n",
    "                             \"DATE\" : \"Date\",\n",
    "                             \"STORE_NBR\" : \"Store ID\",\n",
    "                             \"TXN_ID\" : \"Transaction ID\",\n",
    "                             \"PROD_NBR\" : \"Product ID\",\n",
    "                             \"PROD_NAME\" :\"Product\",\n",
    "                             \"PROD_QTY\" : \"Quantity\",\n",
    "                             \"TOT_SALES\" : \"Sales\"})"
   ]
  },
  {
   "cell_type": "code",
   "execution_count": 16,
   "id": "c9f0cda7",
   "metadata": {},
   "outputs": [
    {
     "data": {
      "text/html": [
       "<div>\n",
       "<style scoped>\n",
       "    .dataframe tbody tr th:only-of-type {\n",
       "        vertical-align: middle;\n",
       "    }\n",
       "\n",
       "    .dataframe tbody tr th {\n",
       "        vertical-align: top;\n",
       "    }\n",
       "\n",
       "    .dataframe thead th {\n",
       "        text-align: right;\n",
       "    }\n",
       "</style>\n",
       "<table border=\"1\" class=\"dataframe\">\n",
       "  <thead>\n",
       "    <tr style=\"text-align: right;\">\n",
       "      <th></th>\n",
       "      <th>Date</th>\n",
       "      <th>Store ID</th>\n",
       "      <th>Card Number</th>\n",
       "      <th>Transaction ID</th>\n",
       "      <th>Product ID</th>\n",
       "      <th>Product</th>\n",
       "      <th>Quantity</th>\n",
       "      <th>Sales</th>\n",
       "      <th>Group</th>\n",
       "      <th>Subscription</th>\n",
       "    </tr>\n",
       "  </thead>\n",
       "  <tbody>\n",
       "    <tr>\n",
       "      <th>0</th>\n",
       "      <td>43390</td>\n",
       "      <td>1</td>\n",
       "      <td>1000</td>\n",
       "      <td>1</td>\n",
       "      <td>5</td>\n",
       "      <td>Natural Chip        Compny SeaSalt175g</td>\n",
       "      <td>2</td>\n",
       "      <td>6.0</td>\n",
       "      <td>YOUNG SINGLES/COUPLES</td>\n",
       "      <td>Premium</td>\n",
       "    </tr>\n",
       "    <tr>\n",
       "      <th>1</th>\n",
       "      <td>43599</td>\n",
       "      <td>1</td>\n",
       "      <td>1307</td>\n",
       "      <td>348</td>\n",
       "      <td>66</td>\n",
       "      <td>CCs Nacho Cheese    175g</td>\n",
       "      <td>3</td>\n",
       "      <td>6.3</td>\n",
       "      <td>MIDAGE SINGLES/COUPLES</td>\n",
       "      <td>Budget</td>\n",
       "    </tr>\n",
       "    <tr>\n",
       "      <th>2</th>\n",
       "      <td>43605</td>\n",
       "      <td>1</td>\n",
       "      <td>1343</td>\n",
       "      <td>383</td>\n",
       "      <td>61</td>\n",
       "      <td>Smiths Crinkle Cut  Chips Chicken 170g</td>\n",
       "      <td>2</td>\n",
       "      <td>2.9</td>\n",
       "      <td>MIDAGE SINGLES/COUPLES</td>\n",
       "      <td>Budget</td>\n",
       "    </tr>\n",
       "    <tr>\n",
       "      <th>3</th>\n",
       "      <td>43329</td>\n",
       "      <td>2</td>\n",
       "      <td>2373</td>\n",
       "      <td>974</td>\n",
       "      <td>69</td>\n",
       "      <td>Smiths Chip Thinly  S/Cream&amp;Onion 175g</td>\n",
       "      <td>5</td>\n",
       "      <td>15.0</td>\n",
       "      <td>MIDAGE SINGLES/COUPLES</td>\n",
       "      <td>Budget</td>\n",
       "    </tr>\n",
       "    <tr>\n",
       "      <th>4</th>\n",
       "      <td>43330</td>\n",
       "      <td>2</td>\n",
       "      <td>2426</td>\n",
       "      <td>1038</td>\n",
       "      <td>108</td>\n",
       "      <td>Kettle Tortilla ChpsHny&amp;Jlpno Chili 150g</td>\n",
       "      <td>3</td>\n",
       "      <td>13.8</td>\n",
       "      <td>MIDAGE SINGLES/COUPLES</td>\n",
       "      <td>Budget</td>\n",
       "    </tr>\n",
       "  </tbody>\n",
       "</table>\n",
       "</div>"
      ],
      "text/plain": [
       "    Date  Store ID  Card Number  Transaction ID  Product ID  \\\n",
       "0  43390         1         1000               1           5   \n",
       "1  43599         1         1307             348          66   \n",
       "2  43605         1         1343             383          61   \n",
       "3  43329         2         2373             974          69   \n",
       "4  43330         2         2426            1038         108   \n",
       "\n",
       "                                    Product  Quantity  Sales  \\\n",
       "0    Natural Chip        Compny SeaSalt175g         2    6.0   \n",
       "1                  CCs Nacho Cheese    175g         3    6.3   \n",
       "2    Smiths Crinkle Cut  Chips Chicken 170g         2    2.9   \n",
       "3    Smiths Chip Thinly  S/Cream&Onion 175g         5   15.0   \n",
       "4  Kettle Tortilla ChpsHny&Jlpno Chili 150g         3   13.8   \n",
       "\n",
       "                    Group Subscription  \n",
       "0   YOUNG SINGLES/COUPLES      Premium  \n",
       "1  MIDAGE SINGLES/COUPLES       Budget  \n",
       "2  MIDAGE SINGLES/COUPLES       Budget  \n",
       "3  MIDAGE SINGLES/COUPLES       Budget  \n",
       "4  MIDAGE SINGLES/COUPLES       Budget  "
      ]
     },
     "execution_count": 16,
     "metadata": {},
     "output_type": "execute_result"
    }
   ],
   "source": [
    "data.head()"
   ]
  },
  {
   "cell_type": "code",
   "execution_count": 17,
   "id": "22a226c5",
   "metadata": {},
   "outputs": [
    {
     "data": {
      "text/plain": [
       "Date                int64\n",
       "Store ID            int64\n",
       "Card Number         int64\n",
       "Transaction ID      int64\n",
       "Product ID          int64\n",
       "Product            object\n",
       "Quantity            int64\n",
       "Sales             float64\n",
       "Group              object\n",
       "Subscription       object\n",
       "dtype: object"
      ]
     },
     "execution_count": 17,
     "metadata": {},
     "output_type": "execute_result"
    }
   ],
   "source": [
    "data.dtypes"
   ]
  },
  {
   "cell_type": "code",
   "execution_count": 18,
   "id": "7e64c383",
   "metadata": {},
   "outputs": [
    {
     "data": {
      "text/plain": [
       "0   2018-10-17\n",
       "1   2019-05-14\n",
       "2   2019-05-20\n",
       "3   2018-08-17\n",
       "4   2018-08-18\n",
       "Name: Date, dtype: datetime64[ns]"
      ]
     },
     "execution_count": 18,
     "metadata": {},
     "output_type": "execute_result"
    }
   ],
   "source": [
    "date_offsets = data[\"Date\"].to_list()\n",
    "base_date = pd.Timestamp(\"1899-12-30\")\n",
    "data[\"Date\"] = [base_date + pd.DateOffset(date_offset) for date_offset in date_offsets]\n",
    "data[\"Date\"][0:5]"
   ]
  },
  {
   "cell_type": "code",
   "execution_count": 19,
   "id": "b772f608",
   "metadata": {},
   "outputs": [
    {
     "data": {
      "text/plain": [
       "array(['Natural Chip        Compny SeaSalt175g',\n",
       "       'CCs Nacho Cheese    175g',\n",
       "       'Smiths Crinkle Cut  Chips Chicken 170g',\n",
       "       'Smiths Chip Thinly  S/Cream&Onion 175g',\n",
       "       'Kettle Tortilla ChpsHny&Jlpno Chili 150g',\n",
       "       'Old El Paso Salsa   Dip Tomato Mild 300g',\n",
       "       'Smiths Crinkle Chips Salt & Vinegar 330g',\n",
       "       'Grain Waves         Sweet Chilli 210g',\n",
       "       'Doritos Corn Chip Mexican Jalapeno 150g',\n",
       "       'Grain Waves Sour    Cream&Chives 210G',\n",
       "       'Kettle Sensations   Siracha Lime 150g',\n",
       "       'Twisties Cheese     270g', 'WW Crinkle Cut      Chicken 175g',\n",
       "       'Thins Chips Light&  Tangy 175g', 'CCs Original 175g',\n",
       "       'Burger Rings 220g', 'NCC Sour Cream &    Garden Chives 175g',\n",
       "       'Doritos Corn Chip Southern Chicken 150g',\n",
       "       'Cheezels Cheese Box 125g', 'Smiths Crinkle      Original 330g',\n",
       "       'Infzns Crn Crnchers Tangy Gcamole 110g',\n",
       "       'Kettle Sea Salt     And Vinegar 175g',\n",
       "       'Smiths Chip Thinly  Cut Original 175g', 'Kettle Original 175g',\n",
       "       'Red Rock Deli Thai  Chilli&Lime 150g',\n",
       "       'Pringles Sthrn FriedChicken 134g', 'Pringles Sweet&Spcy BBQ 134g',\n",
       "       'Red Rock Deli SR    Salsa & Mzzrlla 150g',\n",
       "       'Thins Chips         Originl saltd 175g',\n",
       "       'Red Rock Deli Sp    Salt & Truffle 150G',\n",
       "       'Smiths Thinly       Swt Chli&S/Cream175G', 'Kettle Chilli 175g',\n",
       "       'Doritos Mexicana    170g',\n",
       "       'Smiths Crinkle Cut  French OnionDip 150g',\n",
       "       'Natural ChipCo      Hony Soy Chckn175g',\n",
       "       'Dorito Corn Chp     Supreme 380g', 'Twisties Chicken270g',\n",
       "       'Smiths Thinly Cut   Roast Chicken 175g',\n",
       "       'Smiths Crinkle Cut  Tomato Salsa 150g',\n",
       "       'Kettle Mozzarella   Basil & Pesto 175g',\n",
       "       'Infuzions Thai SweetChili PotatoMix 110g',\n",
       "       'Kettle Sensations   Camembert & Fig 150g',\n",
       "       'Smith Crinkle Cut   Mac N Cheese 150g',\n",
       "       'Kettle Honey Soy    Chicken 175g',\n",
       "       'Thins Chips Seasonedchicken 175g',\n",
       "       'Smiths Crinkle Cut  Salt & Vinegar 170g',\n",
       "       'Infuzions BBQ Rib   Prawn Crackers 110g',\n",
       "       'GrnWves Plus Btroot & Chilli Jam 180g',\n",
       "       'Tyrrells Crisps     Lightly Salted 165g',\n",
       "       'Kettle Sweet Chilli And Sour Cream 175g',\n",
       "       'Doritos Salsa       Medium 300g', 'Kettle 135g Swt Pot Sea Salt',\n",
       "       'Pringles SourCream  Onion 134g',\n",
       "       'Doritos Corn Chips  Original 170g',\n",
       "       'Twisties Cheese     Burger 250g',\n",
       "       'Old El Paso Salsa   Dip Chnky Tom Ht300g',\n",
       "       'Cobs Popd Swt/Chlli &Sr/Cream Chips 110g',\n",
       "       'Woolworths Mild     Salsa 300g',\n",
       "       'Natural Chip Co     Tmato Hrb&Spce 175g',\n",
       "       'Smiths Crinkle Cut  Chips Original 170g',\n",
       "       'Cobs Popd Sea Salt  Chips 110g',\n",
       "       'Smiths Crinkle Cut  Chips Chs&Onion170g',\n",
       "       'French Fries Potato Chips 175g',\n",
       "       'Old El Paso Salsa   Dip Tomato Med 300g',\n",
       "       'Doritos Corn Chips  Cheese Supreme 170g',\n",
       "       'Pringles Original   Crisps 134g',\n",
       "       'RRD Chilli&         Coconut 150g',\n",
       "       'WW Original Corn    Chips 200g',\n",
       "       'Thins Potato Chips  Hot & Spicy 175g',\n",
       "       'Cobs Popd Sour Crm  &Chives Chips 110g',\n",
       "       'Smiths Crnkle Chip  Orgnl Big Bag 380g',\n",
       "       'Doritos Corn Chips  Nacho Cheese 170g',\n",
       "       'Kettle Sensations   BBQ&Maple 150g',\n",
       "       'WW D/Style Chip     Sea Salt 200g',\n",
       "       'Pringles Chicken    Salt Crips 134g',\n",
       "       'WW Original Stacked Chips 160g',\n",
       "       'Smiths Chip Thinly  CutSalt/Vinegr175g', 'Cheezels Cheese 330g',\n",
       "       'Tostitos Lightly    Salted 175g',\n",
       "       'Thins Chips Salt &  Vinegar 175g',\n",
       "       'Smiths Crinkle Cut  Chips Barbecue 170g', 'Cheetos Puffs 165g',\n",
       "       'RRD Sweet Chilli &  Sour Cream 165g',\n",
       "       'WW Crinkle Cut      Original 175g',\n",
       "       'Tostitos Splash Of  Lime 175g', 'Woolworths Medium   Salsa 300g',\n",
       "       'Kettle Tortilla ChpsBtroot&Ricotta 150g',\n",
       "       'CCs Tasty Cheese    175g', 'Woolworths Cheese   Rings 190g',\n",
       "       'Tostitos Smoked     Chipotle 175g', 'Pringles Barbeque   134g',\n",
       "       'WW Supreme Cheese   Corn Chips 200g',\n",
       "       'Pringles Mystery    Flavour 134g',\n",
       "       'Tyrrells Crisps     Ched & Chives 165g',\n",
       "       'Snbts Whlgrn Crisps Cheddr&Mstrd 90g',\n",
       "       'Cheetos Chs & Bacon Balls 190g', 'Pringles Slt Vingar 134g',\n",
       "       'Infuzions SourCream&Herbs Veg Strws 110g',\n",
       "       'Kettle Tortilla ChpsFeta&Garlic 150g',\n",
       "       'Infuzions Mango     Chutny Papadums 70g',\n",
       "       'RRD Steak &         Chimuchurri 150g',\n",
       "       'RRD Honey Soy       Chicken 165g',\n",
       "       'Sunbites Whlegrn    Crisps Frch/Onin 90g',\n",
       "       'RRD Salt & Vinegar  165g', 'Doritos Cheese      Supreme 330g',\n",
       "       'Smiths Crinkle Cut  Snag&Sauce 150g',\n",
       "       'WW Sour Cream &OnionStacked Chips 160g',\n",
       "       'RRD Lime & Pepper   165g',\n",
       "       'Natural ChipCo Sea  Salt & Vinegr 175g',\n",
       "       'Red Rock Deli Chikn&Garlic Aioli 150g',\n",
       "       'RRD SR Slow Rst     Pork Belly 150g', 'RRD Pc Sea Salt     165g',\n",
       "       'Smith Crinkle Cut   Bolognese 150g', 'Doritos Salsa Mild  300g'],\n",
       "      dtype=object)"
      ]
     },
     "execution_count": 19,
     "metadata": {},
     "output_type": "execute_result"
    }
   ],
   "source": [
    "data[\"Product\"].unique()"
   ]
  },
  {
   "cell_type": "code",
   "execution_count": 20,
   "id": "ab29a4e4",
   "metadata": {},
   "outputs": [
    {
     "name": "stderr",
     "output_type": "stream",
     "text": [
      "<ipython-input-20-35fa78bff1af>:1: FutureWarning: The default value of regex will change from True to False in a future version.\n",
      "  split_products = data[\"Product\"].str.replace(r\"([0-9]+[gG])\", \"\").str.replace(r\"[^\\w]\", \" \").str.split()\n"
     ]
    },
    {
     "data": {
      "text/plain": [
       "0                  [Natural, Chip, Compny, SeaSalt]\n",
       "1                              [CCs, Nacho, Cheese]\n",
       "2            [Smiths, Crinkle, Cut, Chips, Chicken]\n",
       "3           [Smiths, Chip, Thinly, S, Cream, Onion]\n",
       "4         [Kettle, Tortilla, ChpsHny, Jlpno, Chili]\n",
       "                            ...                    \n",
       "264831    [Kettle, Sweet, Chilli, And, Sour, Cream]\n",
       "264832                 [Tostitos, Splash, Of, Lime]\n",
       "264833                          [Doritos, Mexicana]\n",
       "264834     [Doritos, Corn, Chip, Mexican, Jalapeno]\n",
       "264835                 [Tostitos, Splash, Of, Lime]\n",
       "Name: Product, Length: 264836, dtype: object"
      ]
     },
     "execution_count": 20,
     "metadata": {},
     "output_type": "execute_result"
    }
   ],
   "source": [
    "split_products = data[\"Product\"].str.replace(r\"([0-9]+[gG])\", \"\").str.replace(r\"[^\\w]\", \" \").str.split()\n",
    "split_products"
   ]
  },
  {
   "cell_type": "code",
   "execution_count": 21,
   "id": "5a213a66",
   "metadata": {},
   "outputs": [
    {
     "name": "stdout",
     "output_type": "stream",
     "text": [
      "Chips       49770\n",
      "Kettle      41288\n",
      "Smiths      28860\n",
      "Salt        27976\n",
      "Cheese      27890\n",
      "            ...  \n",
      "Sunbites     1432\n",
      "Pc           1431\n",
      "Garden       1419\n",
      "NCC          1419\n",
      "Fries        1418\n",
      "Length: 198, dtype: int64\n"
     ]
    }
   ],
   "source": [
    "#To know freequency of products\n",
    "word_counts= {}\n",
    "def count_words(line):\n",
    "    for word in line:\n",
    "        if word not in word_counts:\n",
    "            word_counts[word] = 1\n",
    "        else:\n",
    "            word_counts[word] += 1\n",
    "split_products.apply(lambda line: count_words(line))\n",
    "print(pd.Series(word_counts).sort_values(ascending = False))"
   ]
  },
  {
   "cell_type": "code",
   "execution_count": 22,
   "id": "dc7f86c9",
   "metadata": {},
   "outputs": [
    {
     "data": {
      "text/html": [
       "<div>\n",
       "<style scoped>\n",
       "    .dataframe tbody tr th:only-of-type {\n",
       "        vertical-align: middle;\n",
       "    }\n",
       "\n",
       "    .dataframe tbody tr th {\n",
       "        vertical-align: top;\n",
       "    }\n",
       "\n",
       "    .dataframe thead th {\n",
       "        text-align: right;\n",
       "    }\n",
       "</style>\n",
       "<table border=\"1\" class=\"dataframe\">\n",
       "  <thead>\n",
       "    <tr style=\"text-align: right;\">\n",
       "      <th></th>\n",
       "      <th>Date</th>\n",
       "      <th>Store ID</th>\n",
       "      <th>Card Number</th>\n",
       "      <th>Transaction ID</th>\n",
       "      <th>Product ID</th>\n",
       "      <th>Product</th>\n",
       "      <th>Quantity</th>\n",
       "      <th>Sales</th>\n",
       "      <th>Group</th>\n",
       "      <th>Subscription</th>\n",
       "    </tr>\n",
       "  </thead>\n",
       "  <tbody>\n",
       "    <tr>\n",
       "      <th>5</th>\n",
       "      <td>2019-05-19</td>\n",
       "      <td>4</td>\n",
       "      <td>4074</td>\n",
       "      <td>2982</td>\n",
       "      <td>57</td>\n",
       "      <td>Old El Paso Salsa   Dip Tomato Mild 300g</td>\n",
       "      <td>1</td>\n",
       "      <td>5.1</td>\n",
       "      <td>MIDAGE SINGLES/COUPLES</td>\n",
       "      <td>Budget</td>\n",
       "    </tr>\n",
       "    <tr>\n",
       "      <th>25</th>\n",
       "      <td>2019-05-15</td>\n",
       "      <td>39</td>\n",
       "      <td>39144</td>\n",
       "      <td>35506</td>\n",
       "      <td>57</td>\n",
       "      <td>Old El Paso Salsa   Dip Tomato Mild 300g</td>\n",
       "      <td>1</td>\n",
       "      <td>5.1</td>\n",
       "      <td>MIDAGE SINGLES/COUPLES</td>\n",
       "      <td>Budget</td>\n",
       "    </tr>\n",
       "    <tr>\n",
       "      <th>32</th>\n",
       "      <td>2019-05-20</td>\n",
       "      <td>45</td>\n",
       "      <td>45127</td>\n",
       "      <td>41122</td>\n",
       "      <td>64</td>\n",
       "      <td>Red Rock Deli SR    Salsa &amp; Mzzrlla 150g</td>\n",
       "      <td>2</td>\n",
       "      <td>5.4</td>\n",
       "      <td>MIDAGE SINGLES/COUPLES</td>\n",
       "      <td>Budget</td>\n",
       "    </tr>\n",
       "    <tr>\n",
       "      <th>44</th>\n",
       "      <td>2018-08-18</td>\n",
       "      <td>56</td>\n",
       "      <td>56013</td>\n",
       "      <td>50090</td>\n",
       "      <td>39</td>\n",
       "      <td>Smiths Crinkle Cut  Tomato Salsa 150g</td>\n",
       "      <td>1</td>\n",
       "      <td>2.6</td>\n",
       "      <td>MIDAGE SINGLES/COUPLES</td>\n",
       "      <td>Budget</td>\n",
       "    </tr>\n",
       "    <tr>\n",
       "      <th>63</th>\n",
       "      <td>2019-05-15</td>\n",
       "      <td>82</td>\n",
       "      <td>82480</td>\n",
       "      <td>82047</td>\n",
       "      <td>101</td>\n",
       "      <td>Doritos Salsa       Medium 300g</td>\n",
       "      <td>1</td>\n",
       "      <td>2.6</td>\n",
       "      <td>MIDAGE SINGLES/COUPLES</td>\n",
       "      <td>Budget</td>\n",
       "    </tr>\n",
       "  </tbody>\n",
       "</table>\n",
       "</div>"
      ],
      "text/plain": [
       "         Date  Store ID  Card Number  Transaction ID  Product ID  \\\n",
       "5  2019-05-19         4         4074            2982          57   \n",
       "25 2019-05-15        39        39144           35506          57   \n",
       "32 2019-05-20        45        45127           41122          64   \n",
       "44 2018-08-18        56        56013           50090          39   \n",
       "63 2019-05-15        82        82480           82047         101   \n",
       "\n",
       "                                     Product  Quantity  Sales  \\\n",
       "5   Old El Paso Salsa   Dip Tomato Mild 300g         1    5.1   \n",
       "25  Old El Paso Salsa   Dip Tomato Mild 300g         1    5.1   \n",
       "32  Red Rock Deli SR    Salsa & Mzzrlla 150g         2    5.4   \n",
       "44     Smiths Crinkle Cut  Tomato Salsa 150g         1    2.6   \n",
       "63           Doritos Salsa       Medium 300g         1    2.6   \n",
       "\n",
       "                     Group Subscription  \n",
       "5   MIDAGE SINGLES/COUPLES       Budget  \n",
       "25  MIDAGE SINGLES/COUPLES       Budget  \n",
       "32  MIDAGE SINGLES/COUPLES       Budget  \n",
       "44  MIDAGE SINGLES/COUPLES       Budget  \n",
       "63  MIDAGE SINGLES/COUPLES       Budget  "
      ]
     },
     "execution_count": 22,
     "metadata": {},
     "output_type": "execute_result"
    }
   ],
   "source": [
    "data =data[data[\"Product\"].str.contains(r\"[Ss]alsa\")]\n",
    "data.head()"
   ]
  },
  {
   "cell_type": "code",
   "execution_count": 23,
   "id": "44984363",
   "metadata": {
    "scrolled": true
   },
   "outputs": [
    {
     "data": {
      "text/html": [
       "<div>\n",
       "<style scoped>\n",
       "    .dataframe tbody tr th:only-of-type {\n",
       "        vertical-align: middle;\n",
       "    }\n",
       "\n",
       "    .dataframe tbody tr th {\n",
       "        vertical-align: top;\n",
       "    }\n",
       "\n",
       "    .dataframe thead th {\n",
       "        text-align: right;\n",
       "    }\n",
       "</style>\n",
       "<table border=\"1\" class=\"dataframe\">\n",
       "  <thead>\n",
       "    <tr style=\"text-align: right;\">\n",
       "      <th></th>\n",
       "      <th>Store ID</th>\n",
       "      <th>Card Number</th>\n",
       "      <th>Transaction ID</th>\n",
       "      <th>Product ID</th>\n",
       "      <th>Quantity</th>\n",
       "      <th>Sales</th>\n",
       "    </tr>\n",
       "  </thead>\n",
       "  <tbody>\n",
       "    <tr>\n",
       "      <th>count</th>\n",
       "      <td>18094.000000</td>\n",
       "      <td>1.809400e+04</td>\n",
       "      <td>18094.000000</td>\n",
       "      <td>18094.000000</td>\n",
       "      <td>18094.000000</td>\n",
       "      <td>18094.000000</td>\n",
       "    </tr>\n",
       "    <tr>\n",
       "      <th>mean</th>\n",
       "      <td>135.475738</td>\n",
       "      <td>1.358016e+05</td>\n",
       "      <td>135529.391566</td>\n",
       "      <td>59.738256</td>\n",
       "      <td>1.897038</td>\n",
       "      <td>7.070703</td>\n",
       "    </tr>\n",
       "    <tr>\n",
       "      <th>std</th>\n",
       "      <td>76.745431</td>\n",
       "      <td>7.871344e+04</td>\n",
       "      <td>77933.610308</td>\n",
       "      <td>16.697553</td>\n",
       "      <td>0.355856</td>\n",
       "      <td>3.146715</td>\n",
       "    </tr>\n",
       "    <tr>\n",
       "      <th>min</th>\n",
       "      <td>1.000000</td>\n",
       "      <td>1.010000e+03</td>\n",
       "      <td>11.000000</td>\n",
       "      <td>35.000000</td>\n",
       "      <td>1.000000</td>\n",
       "      <td>1.500000</td>\n",
       "    </tr>\n",
       "    <tr>\n",
       "      <th>25%</th>\n",
       "      <td>70.000000</td>\n",
       "      <td>7.008750e+04</td>\n",
       "      <td>67998.000000</td>\n",
       "      <td>57.000000</td>\n",
       "      <td>2.000000</td>\n",
       "      <td>5.100000</td>\n",
       "    </tr>\n",
       "    <tr>\n",
       "      <th>50%</th>\n",
       "      <td>130.000000</td>\n",
       "      <td>1.301610e+05</td>\n",
       "      <td>134330.500000</td>\n",
       "      <td>59.000000</td>\n",
       "      <td>2.000000</td>\n",
       "      <td>5.400000</td>\n",
       "    </tr>\n",
       "    <tr>\n",
       "      <th>75%</th>\n",
       "      <td>203.000000</td>\n",
       "      <td>2.033270e+05</td>\n",
       "      <td>203629.000000</td>\n",
       "      <td>65.000000</td>\n",
       "      <td>2.000000</td>\n",
       "      <td>10.200000</td>\n",
       "    </tr>\n",
       "    <tr>\n",
       "      <th>max</th>\n",
       "      <td>272.000000</td>\n",
       "      <td>2.370961e+06</td>\n",
       "      <td>270174.000000</td>\n",
       "      <td>101.000000</td>\n",
       "      <td>5.000000</td>\n",
       "      <td>25.500000</td>\n",
       "    </tr>\n",
       "  </tbody>\n",
       "</table>\n",
       "</div>"
      ],
      "text/plain": [
       "           Store ID   Card Number  Transaction ID    Product ID      Quantity  \\\n",
       "count  18094.000000  1.809400e+04    18094.000000  18094.000000  18094.000000   \n",
       "mean     135.475738  1.358016e+05   135529.391566     59.738256      1.897038   \n",
       "std       76.745431  7.871344e+04    77933.610308     16.697553      0.355856   \n",
       "min        1.000000  1.010000e+03       11.000000     35.000000      1.000000   \n",
       "25%       70.000000  7.008750e+04    67998.000000     57.000000      2.000000   \n",
       "50%      130.000000  1.301610e+05   134330.500000     59.000000      2.000000   \n",
       "75%      203.000000  2.033270e+05   203629.000000     65.000000      2.000000   \n",
       "max      272.000000  2.370961e+06   270174.000000    101.000000      5.000000   \n",
       "\n",
       "              Sales  \n",
       "count  18094.000000  \n",
       "mean       7.070703  \n",
       "std        3.146715  \n",
       "min        1.500000  \n",
       "25%        5.100000  \n",
       "50%        5.400000  \n",
       "75%       10.200000  \n",
       "max       25.500000  "
      ]
     },
     "execution_count": 23,
     "metadata": {},
     "output_type": "execute_result"
    }
   ],
   "source": [
    "data.describe()"
   ]
  },
  {
   "cell_type": "code",
   "execution_count": 24,
   "id": "55d0bdd2",
   "metadata": {},
   "outputs": [
    {
     "data": {
      "text/html": [
       "<div>\n",
       "<style scoped>\n",
       "    .dataframe tbody tr th:only-of-type {\n",
       "        vertical-align: middle;\n",
       "    }\n",
       "\n",
       "    .dataframe tbody tr th {\n",
       "        vertical-align: top;\n",
       "    }\n",
       "\n",
       "    .dataframe thead th {\n",
       "        text-align: right;\n",
       "    }\n",
       "</style>\n",
       "<table border=\"1\" class=\"dataframe\">\n",
       "  <thead>\n",
       "    <tr style=\"text-align: right;\">\n",
       "      <th></th>\n",
       "      <th>Date</th>\n",
       "      <th>Store ID</th>\n",
       "      <th>Card Number</th>\n",
       "      <th>Transaction ID</th>\n",
       "      <th>Product ID</th>\n",
       "      <th>Product</th>\n",
       "      <th>Quantity</th>\n",
       "      <th>Sales</th>\n",
       "      <th>Group</th>\n",
       "      <th>Subscription</th>\n",
       "    </tr>\n",
       "  </thead>\n",
       "  <tbody>\n",
       "    <tr>\n",
       "      <th>185283</th>\n",
       "      <td>2019-05-20</td>\n",
       "      <td>162</td>\n",
       "      <td>162200</td>\n",
       "      <td>163005</td>\n",
       "      <td>64</td>\n",
       "      <td>Red Rock Deli SR    Salsa &amp; Mzzrlla 150g</td>\n",
       "      <td>5</td>\n",
       "      <td>13.5</td>\n",
       "      <td>YOUNG FAMILIES</td>\n",
       "      <td>Budget</td>\n",
       "    </tr>\n",
       "    <tr>\n",
       "      <th>55676</th>\n",
       "      <td>2018-08-18</td>\n",
       "      <td>257</td>\n",
       "      <td>257112</td>\n",
       "      <td>256419</td>\n",
       "      <td>101</td>\n",
       "      <td>Doritos Salsa       Medium 300g</td>\n",
       "      <td>5</td>\n",
       "      <td>13.0</td>\n",
       "      <td>OLDER FAMILIES</td>\n",
       "      <td>Mainstream</td>\n",
       "    </tr>\n",
       "    <tr>\n",
       "      <th>32796</th>\n",
       "      <td>2019-05-18</td>\n",
       "      <td>236</td>\n",
       "      <td>236033</td>\n",
       "      <td>238735</td>\n",
       "      <td>59</td>\n",
       "      <td>Old El Paso Salsa   Dip Tomato Med 300g</td>\n",
       "      <td>5</td>\n",
       "      <td>25.5</td>\n",
       "      <td>OLDER FAMILIES</td>\n",
       "      <td>Budget</td>\n",
       "    </tr>\n",
       "    <tr>\n",
       "      <th>32844</th>\n",
       "      <td>2018-08-17</td>\n",
       "      <td>257</td>\n",
       "      <td>257118</td>\n",
       "      <td>256466</td>\n",
       "      <td>65</td>\n",
       "      <td>Old El Paso Salsa   Dip Chnky Tom Ht300g</td>\n",
       "      <td>5</td>\n",
       "      <td>25.5</td>\n",
       "      <td>OLDER FAMILIES</td>\n",
       "      <td>Budget</td>\n",
       "    </tr>\n",
       "    <tr>\n",
       "      <th>171937</th>\n",
       "      <td>2019-05-16</td>\n",
       "      <td>86</td>\n",
       "      <td>86240</td>\n",
       "      <td>85616</td>\n",
       "      <td>35</td>\n",
       "      <td>Woolworths Mild     Salsa 300g</td>\n",
       "      <td>5</td>\n",
       "      <td>7.5</td>\n",
       "      <td>RETIREES</td>\n",
       "      <td>Premium</td>\n",
       "    </tr>\n",
       "  </tbody>\n",
       "</table>\n",
       "</div>"
      ],
      "text/plain": [
       "             Date  Store ID  Card Number  Transaction ID  Product ID  \\\n",
       "185283 2019-05-20       162       162200          163005          64   \n",
       "55676  2018-08-18       257       257112          256419         101   \n",
       "32796  2019-05-18       236       236033          238735          59   \n",
       "32844  2018-08-17       257       257118          256466          65   \n",
       "171937 2019-05-16        86        86240           85616          35   \n",
       "\n",
       "                                         Product  Quantity  Sales  \\\n",
       "185283  Red Rock Deli SR    Salsa & Mzzrlla 150g         5   13.5   \n",
       "55676            Doritos Salsa       Medium 300g         5   13.0   \n",
       "32796    Old El Paso Salsa   Dip Tomato Med 300g         5   25.5   \n",
       "32844   Old El Paso Salsa   Dip Chnky Tom Ht300g         5   25.5   \n",
       "171937            Woolworths Mild     Salsa 300g         5    7.5   \n",
       "\n",
       "                 Group Subscription  \n",
       "185283  YOUNG FAMILIES       Budget  \n",
       "55676   OLDER FAMILIES   Mainstream  \n",
       "32796   OLDER FAMILIES       Budget  \n",
       "32844   OLDER FAMILIES       Budget  \n",
       "171937        RETIREES      Premium  "
      ]
     },
     "execution_count": 24,
     "metadata": {},
     "output_type": "execute_result"
    }
   ],
   "source": [
    "#outliers\n",
    "data.sort_values(by = \"Quantity\", ascending = False).head()"
   ]
  },
  {
   "cell_type": "code",
   "execution_count": 25,
   "id": "cf7ed5c3",
   "metadata": {},
   "outputs": [
    {
     "data": {
      "text/plain": [
       "0"
      ]
     },
     "execution_count": 25,
     "metadata": {},
     "output_type": "execute_result"
    }
   ],
   "source": [
    "len(data[data[\"Card Number\"] == 226000])"
   ]
  },
  {
   "cell_type": "code",
   "execution_count": 26,
   "id": "8ee1e76e",
   "metadata": {},
   "outputs": [
    {
     "data": {
      "text/html": [
       "<div>\n",
       "<style scoped>\n",
       "    .dataframe tbody tr th:only-of-type {\n",
       "        vertical-align: middle;\n",
       "    }\n",
       "\n",
       "    .dataframe tbody tr th {\n",
       "        vertical-align: top;\n",
       "    }\n",
       "\n",
       "    .dataframe thead th {\n",
       "        text-align: right;\n",
       "    }\n",
       "</style>\n",
       "<table border=\"1\" class=\"dataframe\">\n",
       "  <thead>\n",
       "    <tr style=\"text-align: right;\">\n",
       "      <th></th>\n",
       "      <th>Date</th>\n",
       "      <th>Store ID</th>\n",
       "      <th>Card Number</th>\n",
       "      <th>Transaction ID</th>\n",
       "      <th>Product ID</th>\n",
       "      <th>Product</th>\n",
       "      <th>Quantity</th>\n",
       "      <th>Sales</th>\n",
       "      <th>Group</th>\n",
       "      <th>Subscription</th>\n",
       "    </tr>\n",
       "  </thead>\n",
       "  <tbody>\n",
       "    <tr>\n",
       "      <th>5</th>\n",
       "      <td>2019-05-19</td>\n",
       "      <td>4</td>\n",
       "      <td>4074</td>\n",
       "      <td>2982</td>\n",
       "      <td>57</td>\n",
       "      <td>Old El Paso Salsa   Dip Tomato Mild 300g</td>\n",
       "      <td>1</td>\n",
       "      <td>5.1</td>\n",
       "      <td>MIDAGE SINGLES/COUPLES</td>\n",
       "      <td>Budget</td>\n",
       "    </tr>\n",
       "    <tr>\n",
       "      <th>25</th>\n",
       "      <td>2019-05-15</td>\n",
       "      <td>39</td>\n",
       "      <td>39144</td>\n",
       "      <td>35506</td>\n",
       "      <td>57</td>\n",
       "      <td>Old El Paso Salsa   Dip Tomato Mild 300g</td>\n",
       "      <td>1</td>\n",
       "      <td>5.1</td>\n",
       "      <td>MIDAGE SINGLES/COUPLES</td>\n",
       "      <td>Budget</td>\n",
       "    </tr>\n",
       "    <tr>\n",
       "      <th>32</th>\n",
       "      <td>2019-05-20</td>\n",
       "      <td>45</td>\n",
       "      <td>45127</td>\n",
       "      <td>41122</td>\n",
       "      <td>64</td>\n",
       "      <td>Red Rock Deli SR    Salsa &amp; Mzzrlla 150g</td>\n",
       "      <td>2</td>\n",
       "      <td>5.4</td>\n",
       "      <td>MIDAGE SINGLES/COUPLES</td>\n",
       "      <td>Budget</td>\n",
       "    </tr>\n",
       "    <tr>\n",
       "      <th>44</th>\n",
       "      <td>2018-08-18</td>\n",
       "      <td>56</td>\n",
       "      <td>56013</td>\n",
       "      <td>50090</td>\n",
       "      <td>39</td>\n",
       "      <td>Smiths Crinkle Cut  Tomato Salsa 150g</td>\n",
       "      <td>1</td>\n",
       "      <td>2.6</td>\n",
       "      <td>MIDAGE SINGLES/COUPLES</td>\n",
       "      <td>Budget</td>\n",
       "    </tr>\n",
       "    <tr>\n",
       "      <th>63</th>\n",
       "      <td>2019-05-15</td>\n",
       "      <td>82</td>\n",
       "      <td>82480</td>\n",
       "      <td>82047</td>\n",
       "      <td>101</td>\n",
       "      <td>Doritos Salsa       Medium 300g</td>\n",
       "      <td>1</td>\n",
       "      <td>2.6</td>\n",
       "      <td>MIDAGE SINGLES/COUPLES</td>\n",
       "      <td>Budget</td>\n",
       "    </tr>\n",
       "  </tbody>\n",
       "</table>\n",
       "</div>"
      ],
      "text/plain": [
       "         Date  Store ID  Card Number  Transaction ID  Product ID  \\\n",
       "5  2019-05-19         4         4074            2982          57   \n",
       "25 2019-05-15        39        39144           35506          57   \n",
       "32 2019-05-20        45        45127           41122          64   \n",
       "44 2018-08-18        56        56013           50090          39   \n",
       "63 2019-05-15        82        82480           82047         101   \n",
       "\n",
       "                                     Product  Quantity  Sales  \\\n",
       "5   Old El Paso Salsa   Dip Tomato Mild 300g         1    5.1   \n",
       "25  Old El Paso Salsa   Dip Tomato Mild 300g         1    5.1   \n",
       "32  Red Rock Deli SR    Salsa & Mzzrlla 150g         2    5.4   \n",
       "44     Smiths Crinkle Cut  Tomato Salsa 150g         1    2.6   \n",
       "63           Doritos Salsa       Medium 300g         1    2.6   \n",
       "\n",
       "                     Group Subscription  \n",
       "5   MIDAGE SINGLES/COUPLES       Budget  \n",
       "25  MIDAGE SINGLES/COUPLES       Budget  \n",
       "32  MIDAGE SINGLES/COUPLES       Budget  \n",
       "44  MIDAGE SINGLES/COUPLES       Budget  \n",
       "63  MIDAGE SINGLES/COUPLES       Budget  "
      ]
     },
     "execution_count": 26,
     "metadata": {},
     "output_type": "execute_result"
    }
   ],
   "source": [
    "data= data[data[\"Quantity\"]<6]          #removing outliners\n",
    "data.head()"
   ]
  },
  {
   "cell_type": "code",
   "execution_count": 27,
   "id": "1d5ec77a",
   "metadata": {},
   "outputs": [
    {
     "data": {
      "text/plain": [
       "2018-12-22    75\n",
       "2018-07-19    74\n",
       "2018-12-24    74\n",
       "2018-11-30    71\n",
       "2019-02-03    68\n",
       "              ..\n",
       "2019-06-21    37\n",
       "2018-08-27    35\n",
       "2019-01-03    35\n",
       "2018-07-13    33\n",
       "2018-12-07    33\n",
       "Name: Date, Length: 364, dtype: int64"
      ]
     },
     "execution_count": 27,
     "metadata": {},
     "output_type": "execute_result"
    }
   ],
   "source": [
    "trans_by_date = data[\"Date\"].value_counts()     # to know the number of transactions by date\n",
    "trans_by_date"
   ]
  },
  {
   "cell_type": "code",
   "execution_count": 29,
   "id": "e6969b86",
   "metadata": {},
   "outputs": [
    {
     "name": "stderr",
     "output_type": "stream",
     "text": [
      "<ipython-input-29-1923b54d6092>:1: FutureWarning: Treating datetime data as categorical rather than numeric in `.describe` is deprecated and will be removed in a future version of pandas. Specify `datetime_is_numeric=True` to silence this warning and adopt the future behavior now.\n",
      "  data[\"Date\"].describe()       # to check if transactional date is missing\n"
     ]
    },
    {
     "data": {
      "text/plain": [
       "count                   18094\n",
       "unique                    364\n",
       "top       2018-12-22 00:00:00\n",
       "freq                       75\n",
       "first     2018-07-01 00:00:00\n",
       "last      2019-06-30 00:00:00\n",
       "Name: Date, dtype: object"
      ]
     },
     "execution_count": 29,
     "metadata": {},
     "output_type": "execute_result"
    }
   ],
   "source": [
    "data[\"Date\"].describe()       # to check if transactional date is missing"
   ]
  },
  {
   "cell_type": "code",
   "execution_count": 31,
   "id": "50a14bfa",
   "metadata": {},
   "outputs": [
    {
     "data": {
      "text/plain": [
       "DatetimeIndex(['2018-12-25'], dtype='datetime64[ns]', freq=None)"
      ]
     },
     "execution_count": 31,
     "metadata": {},
     "output_type": "execute_result"
    }
   ],
   "source": [
    "#Date is supposed to have 365 but it has 364\n",
    "pd.date_range(start = data[\"Date\"].min(), end = data[\"Date\"].max()).difference(data[\"Date\"])\n"
   ]
  },
  {
   "cell_type": "code",
   "execution_count": 33,
   "id": "598c1f15",
   "metadata": {},
   "outputs": [
    {
     "data": {
      "text/html": [
       "<div>\n",
       "<style scoped>\n",
       "    .dataframe tbody tr th:only-of-type {\n",
       "        vertical-align: middle;\n",
       "    }\n",
       "\n",
       "    .dataframe tbody tr th {\n",
       "        vertical-align: top;\n",
       "    }\n",
       "\n",
       "    .dataframe thead th {\n",
       "        text-align: right;\n",
       "    }\n",
       "</style>\n",
       "<table border=\"1\" class=\"dataframe\">\n",
       "  <thead>\n",
       "    <tr style=\"text-align: right;\">\n",
       "      <th></th>\n",
       "      <th>Date</th>\n",
       "      <th>Store ID</th>\n",
       "      <th>Card Number</th>\n",
       "      <th>Transaction ID</th>\n",
       "      <th>Product ID</th>\n",
       "      <th>Product</th>\n",
       "      <th>Quantity</th>\n",
       "      <th>Sales</th>\n",
       "      <th>Group</th>\n",
       "      <th>Subscription</th>\n",
       "    </tr>\n",
       "  </thead>\n",
       "  <tbody>\n",
       "    <tr>\n",
       "      <th>0</th>\n",
       "      <td>2018-07-01</td>\n",
       "      <td>78.0</td>\n",
       "      <td>78009.0</td>\n",
       "      <td>75510.0</td>\n",
       "      <td>35.0</td>\n",
       "      <td>Woolworths Mild     Salsa 300g</td>\n",
       "      <td>2.0</td>\n",
       "      <td>3.0</td>\n",
       "      <td>MIDAGE SINGLES/COUPLES</td>\n",
       "      <td>Budget</td>\n",
       "    </tr>\n",
       "    <tr>\n",
       "      <th>1</th>\n",
       "      <td>2018-07-01</td>\n",
       "      <td>128.0</td>\n",
       "      <td>128169.0</td>\n",
       "      <td>131648.0</td>\n",
       "      <td>59.0</td>\n",
       "      <td>Old El Paso Salsa   Dip Tomato Med 300g</td>\n",
       "      <td>2.0</td>\n",
       "      <td>10.2</td>\n",
       "      <td>MIDAGE SINGLES/COUPLES</td>\n",
       "      <td>Budget</td>\n",
       "    </tr>\n",
       "    <tr>\n",
       "      <th>2</th>\n",
       "      <td>2018-07-01</td>\n",
       "      <td>59.0</td>\n",
       "      <td>59053.0</td>\n",
       "      <td>54823.0</td>\n",
       "      <td>59.0</td>\n",
       "      <td>Old El Paso Salsa   Dip Tomato Med 300g</td>\n",
       "      <td>2.0</td>\n",
       "      <td>10.2</td>\n",
       "      <td>MIDAGE SINGLES/COUPLES</td>\n",
       "      <td>Mainstream</td>\n",
       "    </tr>\n",
       "    <tr>\n",
       "      <th>3</th>\n",
       "      <td>2018-07-01</td>\n",
       "      <td>213.0</td>\n",
       "      <td>213065.0</td>\n",
       "      <td>212270.0</td>\n",
       "      <td>57.0</td>\n",
       "      <td>Old El Paso Salsa   Dip Tomato Mild 300g</td>\n",
       "      <td>2.0</td>\n",
       "      <td>10.2</td>\n",
       "      <td>MIDAGE SINGLES/COUPLES</td>\n",
       "      <td>Mainstream</td>\n",
       "    </tr>\n",
       "    <tr>\n",
       "      <th>4</th>\n",
       "      <td>2018-07-01</td>\n",
       "      <td>37.0</td>\n",
       "      <td>37132.0</td>\n",
       "      <td>33645.0</td>\n",
       "      <td>59.0</td>\n",
       "      <td>Old El Paso Salsa   Dip Tomato Med 300g</td>\n",
       "      <td>2.0</td>\n",
       "      <td>10.2</td>\n",
       "      <td>MIDAGE SINGLES/COUPLES</td>\n",
       "      <td>Premium</td>\n",
       "    </tr>\n",
       "  </tbody>\n",
       "</table>\n",
       "</div>"
      ],
      "text/plain": [
       "        Date  Store ID  Card Number  Transaction ID  Product ID  \\\n",
       "0 2018-07-01      78.0      78009.0         75510.0        35.0   \n",
       "1 2018-07-01     128.0     128169.0        131648.0        59.0   \n",
       "2 2018-07-01      59.0      59053.0         54823.0        59.0   \n",
       "3 2018-07-01     213.0     213065.0        212270.0        57.0   \n",
       "4 2018-07-01      37.0      37132.0         33645.0        59.0   \n",
       "\n",
       "                                    Product  Quantity  Sales  \\\n",
       "0            Woolworths Mild     Salsa 300g       2.0    3.0   \n",
       "1   Old El Paso Salsa   Dip Tomato Med 300g       2.0   10.2   \n",
       "2   Old El Paso Salsa   Dip Tomato Med 300g       2.0   10.2   \n",
       "3  Old El Paso Salsa   Dip Tomato Mild 300g       2.0   10.2   \n",
       "4   Old El Paso Salsa   Dip Tomato Med 300g       2.0   10.2   \n",
       "\n",
       "                    Group Subscription  \n",
       "0  MIDAGE SINGLES/COUPLES       Budget  \n",
       "1  MIDAGE SINGLES/COUPLES       Budget  \n",
       "2  MIDAGE SINGLES/COUPLES   Mainstream  \n",
       "3  MIDAGE SINGLES/COUPLES   Mainstream  \n",
       "4  MIDAGE SINGLES/COUPLES      Premium  "
      ]
     },
     "execution_count": 33,
     "metadata": {},
     "output_type": "execute_result"
    }
   ],
   "source": [
    "#inserting missing value\n",
    "merge_value = pd.merge(pd.Series(pd.date_range(start = data[\"Date\"].min(), end = data[\"Date\"].max()),name = \"Date\"),data, on = \"Date\", how = \"left\")\n",
    "merge_value.head()"
   ]
  },
  {
   "cell_type": "code",
   "execution_count": 35,
   "id": "f46fe9ee",
   "metadata": {},
   "outputs": [
    {
     "name": "stderr",
     "output_type": "stream",
     "text": [
      "<ipython-input-35-dd1a1f7c5612>:2: FutureWarning: The pandas.datetime class is deprecated and will be removed from pandas in a future version. Import from datetime module instead.\n",
      "  all_time = trans_by_date[(trans_by_date.index >= pd.datetime(2018,7,1)) & (trans_by_date.index < pd.datetime(2019,6,30))].sort_index()\n"
     ]
    },
    {
     "ename": "AttributeError",
     "evalue": "'AxesSubplot' object has no attribute 'set_xtickslabels'",
     "output_type": "error",
     "traceback": [
      "\u001b[1;31m---------------------------------------------------------------------------\u001b[0m",
      "\u001b[1;31mAttributeError\u001b[0m                            Traceback (most recent call last)",
      "\u001b[1;32m<ipython-input-35-dd1a1f7c5612>\u001b[0m in \u001b[0;36m<module>\u001b[1;34m\u001b[0m\n\u001b[0;32m      4\u001b[0m \u001b[0max\u001b[0m \u001b[1;33m=\u001b[0m \u001b[0mall_time\u001b[0m\u001b[1;33m.\u001b[0m\u001b[0mplot\u001b[0m\u001b[1;33m(\u001b[0m\u001b[0mfigsize\u001b[0m\u001b[1;33m=\u001b[0m\u001b[1;33m(\u001b[0m\u001b[1;36m15\u001b[0m\u001b[1;33m,\u001b[0m\u001b[1;36m3\u001b[0m\u001b[1;33m)\u001b[0m\u001b[1;33m)\u001b[0m\u001b[1;33m\u001b[0m\u001b[1;33m\u001b[0m\u001b[0m\n\u001b[0;32m      5\u001b[0m \u001b[0max\u001b[0m\u001b[1;33m.\u001b[0m\u001b[0mset_xticks\u001b[0m\u001b[1;33m(\u001b[0m\u001b[0mnp\u001b[0m\u001b[1;33m.\u001b[0m\u001b[0marange\u001b[0m\u001b[1;33m(\u001b[0m\u001b[0mlen\u001b[0m\u001b[1;33m(\u001b[0m\u001b[0mall_time\u001b[0m\u001b[1;33m)\u001b[0m\u001b[1;33m)\u001b[0m\u001b[1;33m)\u001b[0m\u001b[1;33m\u001b[0m\u001b[1;33m\u001b[0m\u001b[0m\n\u001b[1;32m----> 6\u001b[1;33m \u001b[0max\u001b[0m\u001b[1;33m.\u001b[0m\u001b[0mset_xtickslabels\u001b[0m\u001b[1;33m(\u001b[0m\u001b[0mall_time\u001b[0m\u001b[1;33m.\u001b[0m\u001b[0mindex\u001b[0m\u001b[1;33m)\u001b[0m\u001b[1;33m\u001b[0m\u001b[1;33m\u001b[0m\u001b[0m\n\u001b[0m\u001b[0;32m      7\u001b[0m \u001b[0mplt\u001b[0m\u001b[1;33m.\u001b[0m\u001b[0mtitle\u001b[0m\u001b[1;33m(\u001b[0m\u001b[1;34m\"All Time Sales\"\u001b[0m\u001b[1;33m)\u001b[0m\u001b[1;33m\u001b[0m\u001b[1;33m\u001b[0m\u001b[0m\n\u001b[0;32m      8\u001b[0m \u001b[0mplt\u001b[0m\u001b[1;33m.\u001b[0m\u001b[0msavefig\u001b[0m\u001b[1;33m(\u001b[0m\u001b[1;34m\"All Time Sales.png\"\u001b[0m\u001b[1;33m,\u001b[0m \u001b[0mbbox_inches\u001b[0m\u001b[1;33m=\u001b[0m\u001b[1;34m\"tight\"\u001b[0m\u001b[1;33m)\u001b[0m\u001b[1;33m\u001b[0m\u001b[1;33m\u001b[0m\u001b[0m\n",
      "\u001b[1;31mAttributeError\u001b[0m: 'AxesSubplot' object has no attribute 'set_xtickslabels'"
     ]
    },
    {
     "data": {
      "image/png": "[encoded data removed]",
      "text/plain": [
       "<Figure size 1080x216 with 1 Axes>"
      ]
     },
     "metadata": {
      "needs_background": "light"
     },
     "output_type": "display_data"
    }
   ],
   "source": [
    "trans_by_date = merge_value[\"Date\"].value_counts()\n",
    "all_time = trans_by_date[(trans_by_date.index >= pd.datetime(2018,7,1)) & (trans_by_date.index < pd.datetime(2019,6,30))].sort_index()\n",
    "all_time.index = all_time.index.strftime('%d')\n",
    "ax = all_time.plot(figsize=(15,3))\n",
    "ax.set_xticks(np.arange(len(all_time)))\n",
    "ax.set_xtickslabels(all_time.index)\n",
    "plt.title(\"All Time Sales\")\n",
    "plt.savefig(\"All Time Sales.png\", bbox_inches=\"tight\")\n",
    "plt.show()"
   ]
  },
  {
   "cell_type": "code",
   "execution_count": 36,
   "id": "8bda2ce5",
   "metadata": {},
   "outputs": [
    {
     "name": "stderr",
     "output_type": "stream",
     "text": [
      "<ipython-input-36-fedd9fb95792>:3: FutureWarning: The pandas.datetime class is deprecated and will be removed from pandas in a future version. Import from datetime module instead.\n",
      "  dec = trans_by_date[(trans_by_date.index >= pd.datetime(2018,12,1)) & (trans_by_date.index < pd.datetime(2019,1,1))].sort_index()\n"
     ]
    },
    {
     "ename": "AttributeError",
     "evalue": "'AxesSubplot' object has no attribute 'set_xtickscks'",
     "output_type": "error",
     "traceback": [
      "\u001b[1;31m---------------------------------------------------------------------------\u001b[0m",
      "\u001b[1;31mAttributeError\u001b[0m                            Traceback (most recent call last)",
      "\u001b[1;32m<ipython-input-36-fedd9fb95792>\u001b[0m in \u001b[0;36m<module>\u001b[1;34m\u001b[0m\n\u001b[0;32m      4\u001b[0m \u001b[0mdec\u001b[0m\u001b[1;33m.\u001b[0m\u001b[0mindex\u001b[0m \u001b[1;33m=\u001b[0m \u001b[0mdec\u001b[0m\u001b[1;33m.\u001b[0m\u001b[0mindex\u001b[0m\u001b[1;33m.\u001b[0m\u001b[0mstrftime\u001b[0m\u001b[1;33m(\u001b[0m\u001b[1;34m\"%d\"\u001b[0m\u001b[1;33m)\u001b[0m\u001b[1;33m\u001b[0m\u001b[1;33m\u001b[0m\u001b[0m\n\u001b[0;32m      5\u001b[0m \u001b[0max\u001b[0m \u001b[1;33m=\u001b[0m \u001b[0mdec\u001b[0m\u001b[1;33m.\u001b[0m\u001b[0mplot\u001b[0m\u001b[1;33m(\u001b[0m\u001b[0mfigsize\u001b[0m\u001b[1;33m=\u001b[0m\u001b[1;33m(\u001b[0m\u001b[1;36m15\u001b[0m\u001b[1;33m,\u001b[0m\u001b[1;36m3\u001b[0m\u001b[1;33m)\u001b[0m\u001b[1;33m)\u001b[0m\u001b[1;33m\u001b[0m\u001b[1;33m\u001b[0m\u001b[0m\n\u001b[1;32m----> 6\u001b[1;33m \u001b[0max\u001b[0m\u001b[1;33m.\u001b[0m\u001b[0mset_xtickscks\u001b[0m\u001b[1;33m(\u001b[0m\u001b[0mnp\u001b[0m\u001b[1;33m.\u001b[0m\u001b[0marrange\u001b[0m\u001b[1;33m(\u001b[0m\u001b[0mlen\u001b[0m\u001b[1;33m(\u001b[0m\u001b[0mdec\u001b[0m\u001b[1;33m)\u001b[0m\u001b[1;33m)\u001b[0m\u001b[1;33m)\u001b[0m\u001b[1;33m\u001b[0m\u001b[1;33m\u001b[0m\u001b[0m\n\u001b[0m\u001b[0;32m      7\u001b[0m \u001b[0max\u001b[0m\u001b[1;33m.\u001b[0m\u001b[0mset_xticklabelsc\u001b[0m\u001b[1;33m(\u001b[0m\u001b[0mdec\u001b[0m\u001b[1;33m.\u001b[0m\u001b[0mindex\u001b[0m\u001b[1;33m)\u001b[0m\u001b[1;33m\u001b[0m\u001b[1;33m\u001b[0m\u001b[0m\n\u001b[0;32m      8\u001b[0m \u001b[0mplt\u001b[0m\u001b[1;33m.\u001b[0m\u001b[0mtitle\u001b[0m\u001b[1;33m(\u001b[0m\u001b[1;34m\"December Sales\"\u001b[0m\u001b[1;33m)\u001b[0m\u001b[1;33m\u001b[0m\u001b[1;33m\u001b[0m\u001b[0m\n",
      "\u001b[1;31mAttributeError\u001b[0m: 'AxesSubplot' object has no attribute 'set_xtickscks'"
     ]
    },
    {
     "data": {
      "image/png": "[encoded data removed]",
      "text/plain": [
       "<Figure size 1080x216 with 1 Axes>"
      ]
     },
     "metadata": {
      "needs_background": "light"
     },
     "output_type": "display_data"
    }
   ],
   "source": [
    "#december sales graph\n",
    "trans_by_date = merge_value[\"Date\"].value_counts()\n",
    "dec = trans_by_date[(trans_by_date.index >= pd.datetime(2018,12,1)) & (trans_by_date.index < pd.datetime(2019,1,1))].sort_index()\n",
    "dec.index = dec.index.strftime(\"%d\")\n",
    "ax = dec.plot(figsize=(15,3))\n",
    "ax.set_xtickscks(np.arrange(len(dec)))\n",
    "ax.set_xticklabelsc(dec.index)\n",
    "plt.title(\"December Sales\")\n",
    "plt.savefig(\"December sales.png\", bbox_inches=\"tight\")\n",
    "plt.show()"
   ]
  },
  {
   "cell_type": "code",
   "execution_count": 38,
   "id": "e1f13e0f",
   "metadata": {},
   "outputs": [
    {
     "name": "stderr",
     "output_type": "stream",
     "text": [
      "<ipython-input-38-a76566f4c22e>:2: FutureWarning: The default value of regex will change from True to False in a future version.\n",
      "  data[\"Product\"] = data[\"Product\"].str.replace(r\"[0-9]+(G)\", \"g\")\n"
     ]
    },
    {
     "data": {
      "text/plain": [
       "5     300.0\n",
       "25    300.0\n",
       "32    150.0\n",
       "44    150.0\n",
       "Name: 0, dtype: float64"
      ]
     },
     "execution_count": 38,
     "metadata": {},
     "output_type": "execute_result"
    }
   ],
   "source": [
    "#explore product pack size\n",
    "data[\"Product\"] = data[\"Product\"].str.replace(r\"[0-9]+(G)\", \"g\")\n",
    "pack_size = data[\"Product\"].str.extract(r\"([0-9]+[gG])\")[0].str.replace(\"g\", \"\").astype(\"float\")\n",
    "pack_size[0:4]"
   ]
  },
  {
   "cell_type": "code",
   "execution_count": 39,
   "id": "4beed38d",
   "metadata": {},
   "outputs": [
    {
     "data": {
      "text/plain": [
       "count    18094.000000\n",
       "mean       275.726760\n",
       "std         55.244588\n",
       "min        150.000000\n",
       "25%        300.000000\n",
       "50%        300.000000\n",
       "75%        300.000000\n",
       "max        300.000000\n",
       "Name: 0, dtype: float64"
      ]
     },
     "execution_count": 39,
     "metadata": {},
     "output_type": "execute_result"
    }
   ],
   "source": [
    "pack_size.describe()"
   ]
  },
  {
   "cell_type": "code",
   "execution_count": 40,
   "id": "e71082ee",
   "metadata": {},
   "outputs": [
    {
     "ename": "NameError",
     "evalue": "name 'plt' is not defined",
     "output_type": "error",
     "traceback": [
      "\u001b[1;31m---------------------------------------------------------------------------\u001b[0m",
      "\u001b[1;31mNameError\u001b[0m                                 Traceback (most recent call last)",
      "\u001b[1;32m<ipython-input-40-fea696e6f1aa>\u001b[0m in \u001b[0;36m<module>\u001b[1;34m\u001b[0m\n\u001b[0;32m      1\u001b[0m \u001b[0mpack_size\u001b[0m\u001b[1;33m.\u001b[0m\u001b[0mplot\u001b[0m\u001b[1;33m.\u001b[0m\u001b[0mhist\u001b[0m\u001b[1;33m(\u001b[0m\u001b[1;33m)\u001b[0m\u001b[1;33m\u001b[0m\u001b[1;33m\u001b[0m\u001b[0m\n\u001b[1;32m----> 2\u001b[1;33m \u001b[0mplt\u001b[0m\u001b[1;33m.\u001b[0m\u001b[0mshow\u001b[0m\u001b[1;33m(\u001b[0m\u001b[1;33m)\u001b[0m\u001b[1;33m\u001b[0m\u001b[1;33m\u001b[0m\u001b[0m\n\u001b[0m",
      "\u001b[1;31mNameError\u001b[0m: name 'plt' is not defined"
     ]
    },
    {
     "data": {
      "image/png": "[encoded data removed]",
      "text/plain": [
       "<Figure size 432x288 with 1 Axes>"
      ]
     },
     "metadata": {
      "needs_background": "light"
     },
     "output_type": "display_data"
    }
   ],
   "source": [
    "pack_size.plot.hist()\n",
    "plt.show()"
   ]
  },
  {
   "cell_type": "code",
   "execution_count": 41,
   "id": "1db83055",
   "metadata": {},
   "outputs": [
    {
     "data": {
      "text/plain": [
       "Old           9324\n",
       "Woolworths    2921\n",
       "Doritos       2921\n",
       "Smiths        1470\n",
       "Red           1458\n",
       "Name: Product, dtype: int64"
      ]
     },
     "execution_count": 41,
     "metadata": {},
     "output_type": "execute_result"
    }
   ],
   "source": [
    "data[\"Product\"].str.split().str[0].value_counts()"
   ]
  },
  {
   "cell_type": "code",
   "execution_count": 42,
   "id": "8fb7dea6",
   "metadata": {},
   "outputs": [
    {
     "data": {
      "text/html": [
       "<div>\n",
       "<style scoped>\n",
       "    .dataframe tbody tr th:only-of-type {\n",
       "        vertical-align: middle;\n",
       "    }\n",
       "\n",
       "    .dataframe tbody tr th {\n",
       "        vertical-align: top;\n",
       "    }\n",
       "\n",
       "    .dataframe thead th {\n",
       "        text-align: right;\n",
       "    }\n",
       "</style>\n",
       "<table border=\"1\" class=\"dataframe\">\n",
       "  <thead>\n",
       "    <tr style=\"text-align: right;\">\n",
       "      <th></th>\n",
       "      <th>Date</th>\n",
       "      <th>Store ID</th>\n",
       "      <th>Card Number</th>\n",
       "      <th>Transaction ID</th>\n",
       "      <th>Product ID</th>\n",
       "      <th>Product</th>\n",
       "      <th>Quantity</th>\n",
       "      <th>Sales</th>\n",
       "      <th>Group</th>\n",
       "      <th>Subscription</th>\n",
       "      <th>Brand</th>\n",
       "    </tr>\n",
       "  </thead>\n",
       "  <tbody>\n",
       "    <tr>\n",
       "      <th>5</th>\n",
       "      <td>2019-05-19</td>\n",
       "      <td>4</td>\n",
       "      <td>4074</td>\n",
       "      <td>2982</td>\n",
       "      <td>57</td>\n",
       "      <td>Old El Paso Salsa   Dip Tomato Mild 300g</td>\n",
       "      <td>1</td>\n",
       "      <td>5.1</td>\n",
       "      <td>MIDAGE SINGLES/COUPLES</td>\n",
       "      <td>Budget</td>\n",
       "      <td>Old</td>\n",
       "    </tr>\n",
       "    <tr>\n",
       "      <th>25</th>\n",
       "      <td>2019-05-15</td>\n",
       "      <td>39</td>\n",
       "      <td>39144</td>\n",
       "      <td>35506</td>\n",
       "      <td>57</td>\n",
       "      <td>Old El Paso Salsa   Dip Tomato Mild 300g</td>\n",
       "      <td>1</td>\n",
       "      <td>5.1</td>\n",
       "      <td>MIDAGE SINGLES/COUPLES</td>\n",
       "      <td>Budget</td>\n",
       "      <td>Old</td>\n",
       "    </tr>\n",
       "    <tr>\n",
       "      <th>32</th>\n",
       "      <td>2019-05-20</td>\n",
       "      <td>45</td>\n",
       "      <td>45127</td>\n",
       "      <td>41122</td>\n",
       "      <td>64</td>\n",
       "      <td>Red Rock Deli SR    Salsa &amp; Mzzrlla 150g</td>\n",
       "      <td>2</td>\n",
       "      <td>5.4</td>\n",
       "      <td>MIDAGE SINGLES/COUPLES</td>\n",
       "      <td>Budget</td>\n",
       "      <td>Red</td>\n",
       "    </tr>\n",
       "    <tr>\n",
       "      <th>44</th>\n",
       "      <td>2018-08-18</td>\n",
       "      <td>56</td>\n",
       "      <td>56013</td>\n",
       "      <td>50090</td>\n",
       "      <td>39</td>\n",
       "      <td>Smiths Crinkle Cut  Tomato Salsa 150g</td>\n",
       "      <td>1</td>\n",
       "      <td>2.6</td>\n",
       "      <td>MIDAGE SINGLES/COUPLES</td>\n",
       "      <td>Budget</td>\n",
       "      <td>Smiths</td>\n",
       "    </tr>\n",
       "    <tr>\n",
       "      <th>63</th>\n",
       "      <td>2019-05-15</td>\n",
       "      <td>82</td>\n",
       "      <td>82480</td>\n",
       "      <td>82047</td>\n",
       "      <td>101</td>\n",
       "      <td>Doritos Salsa       Medium 300g</td>\n",
       "      <td>1</td>\n",
       "      <td>2.6</td>\n",
       "      <td>MIDAGE SINGLES/COUPLES</td>\n",
       "      <td>Budget</td>\n",
       "      <td>Doritos</td>\n",
       "    </tr>\n",
       "  </tbody>\n",
       "</table>\n",
       "</div>"
      ],
      "text/plain": [
       "         Date  Store ID  Card Number  Transaction ID  Product ID  \\\n",
       "5  2019-05-19         4         4074            2982          57   \n",
       "25 2019-05-15        39        39144           35506          57   \n",
       "32 2019-05-20        45        45127           41122          64   \n",
       "44 2018-08-18        56        56013           50090          39   \n",
       "63 2019-05-15        82        82480           82047         101   \n",
       "\n",
       "                                     Product  Quantity  Sales  \\\n",
       "5   Old El Paso Salsa   Dip Tomato Mild 300g         1    5.1   \n",
       "25  Old El Paso Salsa   Dip Tomato Mild 300g         1    5.1   \n",
       "32  Red Rock Deli SR    Salsa & Mzzrlla 150g         2    5.4   \n",
       "44     Smiths Crinkle Cut  Tomato Salsa 150g         1    2.6   \n",
       "63           Doritos Salsa       Medium 300g         1    2.6   \n",
       "\n",
       "                     Group Subscription    Brand  \n",
       "5   MIDAGE SINGLES/COUPLES       Budget      Old  \n",
       "25  MIDAGE SINGLES/COUPLES       Budget      Old  \n",
       "32  MIDAGE SINGLES/COUPLES       Budget      Red  \n",
       "44  MIDAGE SINGLES/COUPLES       Budget   Smiths  \n",
       "63  MIDAGE SINGLES/COUPLES       Budget  Doritos  "
      ]
     },
     "execution_count": 42,
     "metadata": {},
     "output_type": "execute_result"
    }
   ],
   "source": [
    "data[\"Brand\"] = data[\"Product\"].str.split().str[0]\n",
    "data.head()"
   ]
  },
  {
   "cell_type": "code",
   "execution_count": 45,
   "id": "db8023aa",
   "metadata": {},
   "outputs": [],
   "source": [
    "#combine same brands\n",
    "def clean_brand_names(line):\n",
    "    brand = line[\"Brand\"]\n",
    "    if brand == \"Old\":\n",
    "        return \"Old\"\n",
    "    elif brand == \"Woolworths\":\n",
    "        return \"Woolworths\"\n",
    "    elif brand == \"Doritos\":\n",
    "        return \"Doritos\"\n",
    "    elif brand == \"Smiths\":\n",
    "        return \"Smiths\"\n",
    "    elif brand == \"Red\":\n",
    "        return \"Red\"\n",
    "    else:\n",
    "        return brand"
   ]
  },
  {
   "cell_type": "code",
   "execution_count": 47,
   "id": "08a28925",
   "metadata": {},
   "outputs": [
    {
     "data": {
      "text/html": [
       "<div>\n",
       "<style scoped>\n",
       "    .dataframe tbody tr th:only-of-type {\n",
       "        vertical-align: middle;\n",
       "    }\n",
       "\n",
       "    .dataframe tbody tr th {\n",
       "        vertical-align: top;\n",
       "    }\n",
       "\n",
       "    .dataframe thead th {\n",
       "        text-align: right;\n",
       "    }\n",
       "</style>\n",
       "<table border=\"1\" class=\"dataframe\">\n",
       "  <thead>\n",
       "    <tr style=\"text-align: right;\">\n",
       "      <th></th>\n",
       "      <th>Date</th>\n",
       "      <th>Store ID</th>\n",
       "      <th>Card Number</th>\n",
       "      <th>Transaction ID</th>\n",
       "      <th>Product ID</th>\n",
       "      <th>Product</th>\n",
       "      <th>Quantity</th>\n",
       "      <th>Sales</th>\n",
       "      <th>Group</th>\n",
       "      <th>Subscription</th>\n",
       "      <th>Brand</th>\n",
       "    </tr>\n",
       "  </thead>\n",
       "  <tbody>\n",
       "    <tr>\n",
       "      <th>5</th>\n",
       "      <td>2019-05-19</td>\n",
       "      <td>4</td>\n",
       "      <td>4074</td>\n",
       "      <td>2982</td>\n",
       "      <td>57</td>\n",
       "      <td>Old El Paso Salsa   Dip Tomato Mild 300g</td>\n",
       "      <td>1</td>\n",
       "      <td>5.1</td>\n",
       "      <td>MIDAGE SINGLES/COUPLES</td>\n",
       "      <td>Budget</td>\n",
       "      <td>Old</td>\n",
       "    </tr>\n",
       "    <tr>\n",
       "      <th>25</th>\n",
       "      <td>2019-05-15</td>\n",
       "      <td>39</td>\n",
       "      <td>39144</td>\n",
       "      <td>35506</td>\n",
       "      <td>57</td>\n",
       "      <td>Old El Paso Salsa   Dip Tomato Mild 300g</td>\n",
       "      <td>1</td>\n",
       "      <td>5.1</td>\n",
       "      <td>MIDAGE SINGLES/COUPLES</td>\n",
       "      <td>Budget</td>\n",
       "      <td>Old</td>\n",
       "    </tr>\n",
       "    <tr>\n",
       "      <th>32</th>\n",
       "      <td>2019-05-20</td>\n",
       "      <td>45</td>\n",
       "      <td>45127</td>\n",
       "      <td>41122</td>\n",
       "      <td>64</td>\n",
       "      <td>Red Rock Deli SR    Salsa &amp; Mzzrlla 150g</td>\n",
       "      <td>2</td>\n",
       "      <td>5.4</td>\n",
       "      <td>MIDAGE SINGLES/COUPLES</td>\n",
       "      <td>Budget</td>\n",
       "      <td>Red</td>\n",
       "    </tr>\n",
       "    <tr>\n",
       "      <th>44</th>\n",
       "      <td>2018-08-18</td>\n",
       "      <td>56</td>\n",
       "      <td>56013</td>\n",
       "      <td>50090</td>\n",
       "      <td>39</td>\n",
       "      <td>Smiths Crinkle Cut  Tomato Salsa 150g</td>\n",
       "      <td>1</td>\n",
       "      <td>2.6</td>\n",
       "      <td>MIDAGE SINGLES/COUPLES</td>\n",
       "      <td>Budget</td>\n",
       "      <td>Smiths</td>\n",
       "    </tr>\n",
       "    <tr>\n",
       "      <th>63</th>\n",
       "      <td>2019-05-15</td>\n",
       "      <td>82</td>\n",
       "      <td>82480</td>\n",
       "      <td>82047</td>\n",
       "      <td>101</td>\n",
       "      <td>Doritos Salsa       Medium 300g</td>\n",
       "      <td>1</td>\n",
       "      <td>2.6</td>\n",
       "      <td>MIDAGE SINGLES/COUPLES</td>\n",
       "      <td>Budget</td>\n",
       "      <td>Doritos</td>\n",
       "    </tr>\n",
       "  </tbody>\n",
       "</table>\n",
       "</div>"
      ],
      "text/plain": [
       "         Date  Store ID  Card Number  Transaction ID  Product ID  \\\n",
       "5  2019-05-19         4         4074            2982          57   \n",
       "25 2019-05-15        39        39144           35506          57   \n",
       "32 2019-05-20        45        45127           41122          64   \n",
       "44 2018-08-18        56        56013           50090          39   \n",
       "63 2019-05-15        82        82480           82047         101   \n",
       "\n",
       "                                     Product  Quantity  Sales  \\\n",
       "5   Old El Paso Salsa   Dip Tomato Mild 300g         1    5.1   \n",
       "25  Old El Paso Salsa   Dip Tomato Mild 300g         1    5.1   \n",
       "32  Red Rock Deli SR    Salsa & Mzzrlla 150g         2    5.4   \n",
       "44     Smiths Crinkle Cut  Tomato Salsa 150g         1    2.6   \n",
       "63           Doritos Salsa       Medium 300g         1    2.6   \n",
       "\n",
       "                     Group Subscription    Brand  \n",
       "5   MIDAGE SINGLES/COUPLES       Budget      Old  \n",
       "25  MIDAGE SINGLES/COUPLES       Budget      Old  \n",
       "32  MIDAGE SINGLES/COUPLES       Budget      Red  \n",
       "44  MIDAGE SINGLES/COUPLES       Budget   Smiths  \n",
       "63  MIDAGE SINGLES/COUPLES       Budget  Doritos  "
      ]
     },
     "execution_count": 47,
     "metadata": {},
     "output_type": "execute_result"
    }
   ],
   "source": [
    "#cleansed transactional data\n",
    "data[\"Brand\"] = data.apply(lambda line: clean_brand_names(line), axis=1)\n",
    "data.head()"
   ]
  },
  {
   "cell_type": "code",
   "execution_count": 49,
   "id": "e343c8f1",
   "metadata": {},
   "outputs": [
    {
     "ename": "NameError",
     "evalue": "name 'plt' is not defined",
     "output_type": "error",
     "traceback": [
      "\u001b[1;31m---------------------------------------------------------------------------\u001b[0m",
      "\u001b[1;31mNameError\u001b[0m                                 Traceback (most recent call last)",
      "\u001b[1;32m<ipython-input-49-484eb54d44b8>\u001b[0m in \u001b[0;36m<module>\u001b[1;34m\u001b[0m\n\u001b[0;32m      1\u001b[0m \u001b[1;31m#Hologram of freequency\u001b[0m\u001b[1;33m\u001b[0m\u001b[1;33m\u001b[0m\u001b[1;33m\u001b[0m\u001b[0m\n\u001b[0;32m      2\u001b[0m \u001b[0mdata\u001b[0m\u001b[1;33m[\u001b[0m\u001b[1;34m\"Brand\"\u001b[0m\u001b[1;33m]\u001b[0m\u001b[1;33m.\u001b[0m\u001b[0mvalue_counts\u001b[0m\u001b[1;33m(\u001b[0m\u001b[0mascending\u001b[0m \u001b[1;33m=\u001b[0m \u001b[1;32mTrue\u001b[0m\u001b[1;33m)\u001b[0m\u001b[1;33m.\u001b[0m\u001b[0mplot\u001b[0m\u001b[1;33m.\u001b[0m\u001b[0mbarh\u001b[0m\u001b[1;33m(\u001b[0m\u001b[0mfigsize\u001b[0m \u001b[1;33m=\u001b[0m \u001b[1;33m(\u001b[0m\u001b[1;36m10\u001b[0m\u001b[1;33m,\u001b[0m\u001b[1;36m5\u001b[0m\u001b[1;33m)\u001b[0m\u001b[1;33m)\u001b[0m\u001b[1;33m\u001b[0m\u001b[1;33m\u001b[0m\u001b[0m\n\u001b[1;32m----> 3\u001b[1;33m \u001b[0mplt\u001b[0m\u001b[1;33m.\u001b[0m\u001b[0mshow\u001b[0m\u001b[1;33m(\u001b[0m\u001b[1;33m)\u001b[0m\u001b[1;33m\u001b[0m\u001b[1;33m\u001b[0m\u001b[0m\n\u001b[0m",
      "\u001b[1;31mNameError\u001b[0m: name 'plt' is not defined"
     ]
    },
    {
     "data": {
      "image/png": "[encoded data removed]",
      "text/plain": [
       "<Figure size 720x360 with 1 Axes>"
      ]
     },
     "metadata": {
      "needs_background": "light"
     },
     "output_type": "display_data"
    }
   ],
   "source": [
    "#Hologram of freequency\n",
    "data[\"Brand\"].value_counts(ascending = True).plot.barh(figsize = (10,5))\n",
    "plt.show()"
   ]
  },
  {
   "cell_type": "code",
   "execution_count": 50,
   "id": "ccff29cd",
   "metadata": {},
   "outputs": [
    {
     "data": {
      "text/html": [
       "<div>\n",
       "<style scoped>\n",
       "    .dataframe tbody tr th:only-of-type {\n",
       "        vertical-align: middle;\n",
       "    }\n",
       "\n",
       "    .dataframe tbody tr th {\n",
       "        vertical-align: top;\n",
       "    }\n",
       "\n",
       "    .dataframe thead th {\n",
       "        text-align: right;\n",
       "    }\n",
       "</style>\n",
       "<table border=\"1\" class=\"dataframe\">\n",
       "  <thead>\n",
       "    <tr style=\"text-align: right;\">\n",
       "      <th></th>\n",
       "      <th></th>\n",
       "      <th>sum</th>\n",
       "    </tr>\n",
       "    <tr>\n",
       "      <th>Group</th>\n",
       "      <th>Subscription</th>\n",
       "      <th></th>\n",
       "    </tr>\n",
       "  </thead>\n",
       "  <tbody>\n",
       "    <tr>\n",
       "      <th>OLDER FAMILIES</th>\n",
       "      <th>Budget</th>\n",
       "      <td>11499.5</td>\n",
       "    </tr>\n",
       "    <tr>\n",
       "      <th>RETIREES</th>\n",
       "      <th>Mainstream</th>\n",
       "      <td>10508.1</td>\n",
       "    </tr>\n",
       "    <tr>\n",
       "      <th>YOUNG SINGLES/COUPLES</th>\n",
       "      <th>Mainstream</th>\n",
       "      <td>10039.4</td>\n",
       "    </tr>\n",
       "    <tr>\n",
       "      <th>YOUNG FAMILIES</th>\n",
       "      <th>Budget</th>\n",
       "      <td>9627.9</td>\n",
       "    </tr>\n",
       "    <tr>\n",
       "      <th rowspan=\"3\" valign=\"top\">OLDER SINGLES/COUPLES</th>\n",
       "      <th>Budget</th>\n",
       "      <td>8936.2</td>\n",
       "    </tr>\n",
       "    <tr>\n",
       "      <th>Mainstream</th>\n",
       "      <td>8745.3</td>\n",
       "    </tr>\n",
       "    <tr>\n",
       "      <th>Premium</th>\n",
       "      <td>8725.6</td>\n",
       "    </tr>\n",
       "    <tr>\n",
       "      <th>RETIREES</th>\n",
       "      <th>Budget</th>\n",
       "      <td>7231.5</td>\n",
       "    </tr>\n",
       "    <tr>\n",
       "      <th>OLDER FAMILIES</th>\n",
       "      <th>Mainstream</th>\n",
       "      <td>7032.0</td>\n",
       "    </tr>\n",
       "    <tr>\n",
       "      <th>YOUNG FAMILIES</th>\n",
       "      <th>Mainstream</th>\n",
       "      <td>6450.5</td>\n",
       "    </tr>\n",
       "    <tr>\n",
       "      <th>RETIREES</th>\n",
       "      <th>Premium</th>\n",
       "      <td>6349.4</td>\n",
       "    </tr>\n",
       "    <tr>\n",
       "      <th>MIDAGE SINGLES/COUPLES</th>\n",
       "      <th>Mainstream</th>\n",
       "      <td>6069.6</td>\n",
       "    </tr>\n",
       "    <tr>\n",
       "      <th>YOUNG FAMILIES</th>\n",
       "      <th>Premium</th>\n",
       "      <td>5453.8</td>\n",
       "    </tr>\n",
       "    <tr>\n",
       "      <th>OLDER FAMILIES</th>\n",
       "      <th>Premium</th>\n",
       "      <td>5415.8</td>\n",
       "    </tr>\n",
       "    <tr>\n",
       "      <th>YOUNG SINGLES/COUPLES</th>\n",
       "      <th>Budget</th>\n",
       "      <td>4019.5</td>\n",
       "    </tr>\n",
       "    <tr>\n",
       "      <th>MIDAGE SINGLES/COUPLES</th>\n",
       "      <th>Premium</th>\n",
       "      <td>3988.8</td>\n",
       "    </tr>\n",
       "    <tr>\n",
       "      <th>YOUNG SINGLES/COUPLES</th>\n",
       "      <th>Premium</th>\n",
       "      <td>2589.8</td>\n",
       "    </tr>\n",
       "    <tr>\n",
       "      <th>MIDAGE SINGLES/COUPLES</th>\n",
       "      <th>Budget</th>\n",
       "      <td>2169.1</td>\n",
       "    </tr>\n",
       "    <tr>\n",
       "      <th rowspan=\"3\" valign=\"top\">NEW FAMILIES</th>\n",
       "      <th>Budget</th>\n",
       "      <td>1321.0</td>\n",
       "    </tr>\n",
       "    <tr>\n",
       "      <th>Mainstream</th>\n",
       "      <td>1034.2</td>\n",
       "    </tr>\n",
       "    <tr>\n",
       "      <th>Premium</th>\n",
       "      <td>730.3</td>\n",
       "    </tr>\n",
       "  </tbody>\n",
       "</table>\n",
       "</div>"
      ],
      "text/plain": [
       "                                         sum\n",
       "Group                  Subscription         \n",
       "OLDER FAMILIES         Budget        11499.5\n",
       "RETIREES               Mainstream    10508.1\n",
       "YOUNG SINGLES/COUPLES  Mainstream    10039.4\n",
       "YOUNG FAMILIES         Budget         9627.9\n",
       "OLDER SINGLES/COUPLES  Budget         8936.2\n",
       "                       Mainstream     8745.3\n",
       "                       Premium        8725.6\n",
       "RETIREES               Budget         7231.5\n",
       "OLDER FAMILIES         Mainstream     7032.0\n",
       "YOUNG FAMILIES         Mainstream     6450.5\n",
       "RETIREES               Premium        6349.4\n",
       "MIDAGE SINGLES/COUPLES Mainstream     6069.6\n",
       "YOUNG FAMILIES         Premium        5453.8\n",
       "OLDER FAMILIES         Premium        5415.8\n",
       "YOUNG SINGLES/COUPLES  Budget         4019.5\n",
       "MIDAGE SINGLES/COUPLES Premium        3988.8\n",
       "YOUNG SINGLES/COUPLES  Premium        2589.8\n",
       "MIDAGE SINGLES/COUPLES Budget         2169.1\n",
       "NEW FAMILIES           Budget         1321.0\n",
       "                       Mainstream     1034.2\n",
       "                       Premium         730.3"
      ]
     },
     "execution_count": 50,
     "metadata": {},
     "output_type": "execute_result"
    }
   ],
   "source": [
    "#Group that spends most on chips\n",
    "most_shopping = data.groupby([\"Group\", \"Subscription\"])[\"Sales\"].agg([\"sum\"]).sort_values(ascending = False, by = \"sum\")\n",
    "most_shopping"
   ]
  },
  {
   "cell_type": "code",
   "execution_count": 51,
   "id": "c25a7ab9",
   "metadata": {},
   "outputs": [
    {
     "ename": "NameError",
     "evalue": "name 'plt' is not defined",
     "output_type": "error",
     "traceback": [
      "\u001b[1;31m---------------------------------------------------------------------------\u001b[0m",
      "\u001b[1;31mNameError\u001b[0m                                 Traceback (most recent call last)",
      "\u001b[1;32m<ipython-input-51-ef82b32a89b8>\u001b[0m in \u001b[0;36m<module>\u001b[1;34m\u001b[0m\n\u001b[0;32m      1\u001b[0m \u001b[1;31m#Hologram of customer segments\u001b[0m\u001b[1;33m\u001b[0m\u001b[1;33m\u001b[0m\u001b[1;33m\u001b[0m\u001b[0m\n\u001b[0;32m      2\u001b[0m \u001b[0mmost_shopping\u001b[0m\u001b[1;33m[\u001b[0m\u001b[1;34m\"sum\"\u001b[0m\u001b[1;33m]\u001b[0m\u001b[1;33m.\u001b[0m\u001b[0msort_values\u001b[0m\u001b[1;33m(\u001b[0m\u001b[1;33m)\u001b[0m\u001b[1;33m.\u001b[0m\u001b[0mplot\u001b[0m\u001b[1;33m.\u001b[0m\u001b[0mbarh\u001b[0m\u001b[1;33m(\u001b[0m\u001b[0mfigsize\u001b[0m \u001b[1;33m=\u001b[0m \u001b[1;33m(\u001b[0m\u001b[1;36m12\u001b[0m\u001b[1;33m,\u001b[0m\u001b[1;36m7\u001b[0m\u001b[1;33m)\u001b[0m\u001b[1;33m)\u001b[0m\u001b[1;33m\u001b[0m\u001b[1;33m\u001b[0m\u001b[0m\n\u001b[1;32m----> 3\u001b[1;33m \u001b[0mplt\u001b[0m\u001b[1;33m.\u001b[0m\u001b[0mshow\u001b[0m\u001b[1;33m(\u001b[0m\u001b[1;33m)\u001b[0m\u001b[1;33m\u001b[0m\u001b[1;33m\u001b[0m\u001b[0m\n\u001b[0m",
      "\u001b[1;31mNameError\u001b[0m: name 'plt' is not defined"
     ]
    },
    {
     "data": {
      "image/png": "[encoded data removed]",
      "text/plain": [
       "<Figure size 864x504 with 1 Axes>"
      ]
     },
     "metadata": {
      "needs_background": "light"
     },
     "output_type": "display_data"
    }
   ],
   "source": [
    "#Hologram of customer segments\n",
    "most_shopping[\"sum\"].sort_values().plot.barh(figsize = (12,7))\n",
    "plt.show()"
   ]
  },
  {
   "cell_type": "code",
   "execution_count": 53,
   "id": "a5f7fed3",
   "metadata": {},
   "outputs": [
    {
     "name": "stdout",
     "output_type": "stream",
     "text": [
      "Top contributor per Group by Subscription\n",
      "Group\n",
      "NEW FAMILIES                  Budget\n",
      "OLDER FAMILIES                Budget\n",
      "YOUNG FAMILIES                Budget\n",
      "MIDAGE SINGLES/COUPLES    Mainstream\n",
      "OLDER SINGLES/COUPLES     Mainstream\n",
      "RETIREES                  Mainstream\n",
      "YOUNG SINGLES/COUPLES     Mainstream\n",
      "Name: Subscription, dtype: object\n"
     ]
    }
   ],
   "source": [
    "#top shopping per group by subscription\n",
    "stage_agg_prem = data.groupby(\"Group\")[\"Subscription\"].agg(pd.Series.mode).sort_values()\n",
    "print(\"Top contributor per Group by Subscription\")\n",
    "print(stage_agg_prem)"
   ]
  },
  {
   "cell_type": "code",
   "execution_count": 54,
   "id": "892a2b9a",
   "metadata": {},
   "outputs": [
    {
     "data": {
      "text/html": [
       "<div>\n",
       "<style scoped>\n",
       "    .dataframe tbody tr th:only-of-type {\n",
       "        vertical-align: middle;\n",
       "    }\n",
       "\n",
       "    .dataframe tbody tr th {\n",
       "        vertical-align: top;\n",
       "    }\n",
       "\n",
       "    .dataframe thead th {\n",
       "        text-align: right;\n",
       "    }\n",
       "</style>\n",
       "<table border=\"1\" class=\"dataframe\">\n",
       "  <thead>\n",
       "    <tr style=\"text-align: right;\">\n",
       "      <th></th>\n",
       "      <th></th>\n",
       "      <th>Card Number</th>\n",
       "    </tr>\n",
       "    <tr>\n",
       "      <th>Group</th>\n",
       "      <th>Subscription</th>\n",
       "      <th></th>\n",
       "    </tr>\n",
       "  </thead>\n",
       "  <tbody>\n",
       "    <tr>\n",
       "      <th>OLDER FAMILIES</th>\n",
       "      <th>Budget</th>\n",
       "      <td>1320</td>\n",
       "    </tr>\n",
       "    <tr>\n",
       "      <th>RETIREES</th>\n",
       "      <th>Mainstream</th>\n",
       "      <td>1308</td>\n",
       "    </tr>\n",
       "    <tr>\n",
       "      <th>YOUNG SINGLES/COUPLES</th>\n",
       "      <th>Mainstream</th>\n",
       "      <td>1186</td>\n",
       "    </tr>\n",
       "    <tr>\n",
       "      <th>YOUNG FAMILIES</th>\n",
       "      <th>Budget</th>\n",
       "      <td>1113</td>\n",
       "    </tr>\n",
       "    <tr>\n",
       "      <th rowspan=\"3\" valign=\"top\">OLDER SINGLES/COUPLES</th>\n",
       "      <th>Mainstream</th>\n",
       "      <td>1080</td>\n",
       "    </tr>\n",
       "    <tr>\n",
       "      <th>Budget</th>\n",
       "      <td>1063</td>\n",
       "    </tr>\n",
       "    <tr>\n",
       "      <th>Premium</th>\n",
       "      <td>1026</td>\n",
       "    </tr>\n",
       "    <tr>\n",
       "      <th>RETIREES</th>\n",
       "      <th>Budget</th>\n",
       "      <td>874</td>\n",
       "    </tr>\n",
       "    <tr>\n",
       "      <th>OLDER FAMILIES</th>\n",
       "      <th>Mainstream</th>\n",
       "      <td>816</td>\n",
       "    </tr>\n",
       "    <tr>\n",
       "      <th>YOUNG FAMILIES</th>\n",
       "      <th>Mainstream</th>\n",
       "      <td>764</td>\n",
       "    </tr>\n",
       "    <tr>\n",
       "      <th>RETIREES</th>\n",
       "      <th>Premium</th>\n",
       "      <td>750</td>\n",
       "    </tr>\n",
       "    <tr>\n",
       "      <th>MIDAGE SINGLES/COUPLES</th>\n",
       "      <th>Mainstream</th>\n",
       "      <td>679</td>\n",
       "    </tr>\n",
       "    <tr>\n",
       "      <th>YOUNG FAMILIES</th>\n",
       "      <th>Premium</th>\n",
       "      <td>625</td>\n",
       "    </tr>\n",
       "    <tr>\n",
       "      <th>YOUNG SINGLES/COUPLES</th>\n",
       "      <th>Budget</th>\n",
       "      <td>619</td>\n",
       "    </tr>\n",
       "    <tr>\n",
       "      <th>OLDER FAMILIES</th>\n",
       "      <th>Premium</th>\n",
       "      <td>609</td>\n",
       "    </tr>\n",
       "    <tr>\n",
       "      <th>MIDAGE SINGLES/COUPLES</th>\n",
       "      <th>Premium</th>\n",
       "      <td>513</td>\n",
       "    </tr>\n",
       "    <tr>\n",
       "      <th>YOUNG SINGLES/COUPLES</th>\n",
       "      <th>Premium</th>\n",
       "      <td>391</td>\n",
       "    </tr>\n",
       "    <tr>\n",
       "      <th>MIDAGE SINGLES/COUPLES</th>\n",
       "      <th>Budget</th>\n",
       "      <td>282</td>\n",
       "    </tr>\n",
       "    <tr>\n",
       "      <th rowspan=\"3\" valign=\"top\">NEW FAMILIES</th>\n",
       "      <th>Budget</th>\n",
       "      <td>169</td>\n",
       "    </tr>\n",
       "    <tr>\n",
       "      <th>Mainstream</th>\n",
       "      <td>129</td>\n",
       "    </tr>\n",
       "    <tr>\n",
       "      <th>Premium</th>\n",
       "      <td>93</td>\n",
       "    </tr>\n",
       "  </tbody>\n",
       "</table>\n",
       "</div>"
      ],
      "text/plain": [
       "                                     Card Number\n",
       "Group                  Subscription             \n",
       "OLDER FAMILIES         Budget               1320\n",
       "RETIREES               Mainstream           1308\n",
       "YOUNG SINGLES/COUPLES  Mainstream           1186\n",
       "YOUNG FAMILIES         Budget               1113\n",
       "OLDER SINGLES/COUPLES  Mainstream           1080\n",
       "                       Budget               1063\n",
       "                       Premium              1026\n",
       "RETIREES               Budget                874\n",
       "OLDER FAMILIES         Mainstream            816\n",
       "YOUNG FAMILIES         Mainstream            764\n",
       "RETIREES               Premium               750\n",
       "MIDAGE SINGLES/COUPLES Mainstream            679\n",
       "YOUNG FAMILIES         Premium               625\n",
       "YOUNG SINGLES/COUPLES  Budget                619\n",
       "OLDER FAMILIES         Premium               609\n",
       "MIDAGE SINGLES/COUPLES Premium               513\n",
       "YOUNG SINGLES/COUPLES  Premium               391\n",
       "MIDAGE SINGLES/COUPLES Budget                282\n",
       "NEW FAMILIES           Budget                169\n",
       "                       Mainstream            129\n",
       "                       Premium                93"
      ]
     },
     "execution_count": 54,
     "metadata": {},
     "output_type": "execute_result"
    }
   ],
   "source": [
    "#Number of customers in each segment\n",
    "cust_seg = data.groupby([\"Group\", \"Subscription\"])[\"Card Number\"].nunique().sort_values(ascending = False)\n",
    "pd.DataFrame(cust_seg)"
   ]
  },
  {
   "cell_type": "code",
   "execution_count": 55,
   "id": "f84ce117",
   "metadata": {},
   "outputs": [
    {
     "ename": "NameError",
     "evalue": "name 'plt' is not defined",
     "output_type": "error",
     "traceback": [
      "\u001b[1;31m---------------------------------------------------------------------------\u001b[0m",
      "\u001b[1;31mNameError\u001b[0m                                 Traceback (most recent call last)",
      "\u001b[1;32m<ipython-input-55-4b2e0f3e88d9>\u001b[0m in \u001b[0;36m<module>\u001b[1;34m\u001b[0m\n\u001b[0;32m      1\u001b[0m \u001b[1;31m#customer segments freequency\u001b[0m\u001b[1;33m\u001b[0m\u001b[1;33m\u001b[0m\u001b[1;33m\u001b[0m\u001b[0m\n\u001b[0;32m      2\u001b[0m \u001b[0mcust_seg\u001b[0m\u001b[1;33m.\u001b[0m\u001b[0msort_values\u001b[0m\u001b[1;33m(\u001b[0m\u001b[1;33m)\u001b[0m\u001b[1;33m.\u001b[0m\u001b[0mplot\u001b[0m\u001b[1;33m.\u001b[0m\u001b[0mbarh\u001b[0m\u001b[1;33m(\u001b[0m\u001b[0mfigsize\u001b[0m \u001b[1;33m=\u001b[0m \u001b[1;33m(\u001b[0m\u001b[1;36m12\u001b[0m\u001b[1;33m,\u001b[0m\u001b[1;36m7\u001b[0m\u001b[1;33m)\u001b[0m\u001b[1;33m)\u001b[0m\u001b[1;33m\u001b[0m\u001b[1;33m\u001b[0m\u001b[0m\n\u001b[1;32m----> 3\u001b[1;33m \u001b[0mplt\u001b[0m\u001b[1;33m.\u001b[0m\u001b[0mshow\u001b[0m\u001b[1;33m(\u001b[0m\u001b[1;33m)\u001b[0m\u001b[1;33m\u001b[0m\u001b[1;33m\u001b[0m\u001b[0m\n\u001b[0m",
      "\u001b[1;31mNameError\u001b[0m: name 'plt' is not defined"
     ]
    },
    {
     "data": {
      "image/png": "[encoded data removed]",
      "text/plain": [
       "<Figure size 864x504 with 1 Axes>"
      ]
     },
     "metadata": {
      "needs_background": "light"
     },
     "output_type": "display_data"
    }
   ],
   "source": [
    "#customer segments freequency\n",
    "cust_seg.sort_values().plot.barh(figsize = (12,7))\n",
    "plt.show()"
   ]
  },
  {
   "cell_type": "code",
   "execution_count": 56,
   "id": "14b08141",
   "metadata": {},
   "outputs": [
    {
     "data": {
      "text/html": [
       "<div>\n",
       "<style scoped>\n",
       "    .dataframe tbody tr th:only-of-type {\n",
       "        vertical-align: middle;\n",
       "    }\n",
       "\n",
       "    .dataframe tbody tr th {\n",
       "        vertical-align: top;\n",
       "    }\n",
       "\n",
       "    .dataframe thead th {\n",
       "        text-align: right;\n",
       "    }\n",
       "</style>\n",
       "<table border=\"1\" class=\"dataframe\">\n",
       "  <thead>\n",
       "    <tr style=\"text-align: right;\">\n",
       "      <th></th>\n",
       "      <th></th>\n",
       "      <th></th>\n",
       "      <th>Date</th>\n",
       "    </tr>\n",
       "    <tr>\n",
       "      <th>Card Number</th>\n",
       "      <th>Group</th>\n",
       "      <th>Subscription</th>\n",
       "      <th></th>\n",
       "    </tr>\n",
       "  </thead>\n",
       "  <tbody>\n",
       "    <tr>\n",
       "      <th>1010</th>\n",
       "      <th>YOUNG SINGLES/COUPLES</th>\n",
       "      <th>Mainstream</th>\n",
       "      <td>1</td>\n",
       "    </tr>\n",
       "    <tr>\n",
       "      <th>1011</th>\n",
       "      <th>OLDER SINGLES/COUPLES</th>\n",
       "      <th>Mainstream</th>\n",
       "      <td>1</td>\n",
       "    </tr>\n",
       "    <tr>\n",
       "      <th>1028</th>\n",
       "      <th>YOUNG SINGLES/COUPLES</th>\n",
       "      <th>Budget</th>\n",
       "      <td>1</td>\n",
       "    </tr>\n",
       "    <tr>\n",
       "      <th>1057</th>\n",
       "      <th>MIDAGE SINGLES/COUPLES</th>\n",
       "      <th>Mainstream</th>\n",
       "      <td>1</td>\n",
       "    </tr>\n",
       "    <tr>\n",
       "      <th>1065</th>\n",
       "      <th>MIDAGE SINGLES/COUPLES</th>\n",
       "      <th>Premium</th>\n",
       "      <td>1</td>\n",
       "    </tr>\n",
       "    <tr>\n",
       "      <th>...</th>\n",
       "      <th>...</th>\n",
       "      <th>...</th>\n",
       "      <td>...</td>\n",
       "    </tr>\n",
       "    <tr>\n",
       "      <th>272364</th>\n",
       "      <th>YOUNG FAMILIES</th>\n",
       "      <th>Mainstream</th>\n",
       "      <td>1</td>\n",
       "    </tr>\n",
       "    <tr>\n",
       "      <th>272366</th>\n",
       "      <th>OLDER SINGLES/COUPLES</th>\n",
       "      <th>Budget</th>\n",
       "      <td>1</td>\n",
       "    </tr>\n",
       "    <tr>\n",
       "      <th>272369</th>\n",
       "      <th>RETIREES</th>\n",
       "      <th>Budget</th>\n",
       "      <td>1</td>\n",
       "    </tr>\n",
       "    <tr>\n",
       "      <th>880551</th>\n",
       "      <th>OLDER SINGLES/COUPLES</th>\n",
       "      <th>Premium</th>\n",
       "      <td>1</td>\n",
       "    </tr>\n",
       "    <tr>\n",
       "      <th>2370961</th>\n",
       "      <th>OLDER FAMILIES</th>\n",
       "      <th>Budget</th>\n",
       "      <td>1</td>\n",
       "    </tr>\n",
       "  </tbody>\n",
       "</table>\n",
       "<p>15409 rows × 1 columns</p>\n",
       "</div>"
      ],
      "text/plain": [
       "                                                 Date\n",
       "Card Number Group                  Subscription      \n",
       "1010        YOUNG SINGLES/COUPLES  Mainstream       1\n",
       "1011        OLDER SINGLES/COUPLES  Mainstream       1\n",
       "1028        YOUNG SINGLES/COUPLES  Budget           1\n",
       "1057        MIDAGE SINGLES/COUPLES Mainstream       1\n",
       "1065        MIDAGE SINGLES/COUPLES Premium          1\n",
       "...                                               ...\n",
       "272364      YOUNG FAMILIES         Mainstream       1\n",
       "272366      OLDER SINGLES/COUPLES  Budget           1\n",
       "272369      RETIREES               Budget           1\n",
       "880551      OLDER SINGLES/COUPLES  Premium          1\n",
       "2370961     OLDER FAMILIES         Budget           1\n",
       "\n",
       "[15409 rows x 1 columns]"
      ]
     },
     "execution_count": 56,
     "metadata": {},
     "output_type": "execute_result"
    }
   ],
   "source": [
    "#Number of chips bought per customer\n",
    "chips_shop_per_segment = data.groupby([\"Card Number\", \"Group\", \"Subscription\"]).count()[\"Date\"]\n",
    "chips_shop_per_segment.to_frame()"
   ]
  },
  {
   "cell_type": "code",
   "execution_count": 60,
   "id": "263461fa",
   "metadata": {},
   "outputs": [
    {
     "data": {
      "text/html": [
       "<div>\n",
       "<style scoped>\n",
       "    .dataframe tbody tr th:only-of-type {\n",
       "        vertical-align: middle;\n",
       "    }\n",
       "\n",
       "    .dataframe tbody tr th {\n",
       "        vertical-align: top;\n",
       "    }\n",
       "\n",
       "    .dataframe thead th {\n",
       "        text-align: right;\n",
       "    }\n",
       "</style>\n",
       "<table border=\"1\" class=\"dataframe\">\n",
       "  <thead>\n",
       "    <tr style=\"text-align: right;\">\n",
       "      <th></th>\n",
       "      <th></th>\n",
       "      <th>mean</th>\n",
       "    </tr>\n",
       "    <tr>\n",
       "      <th>Group</th>\n",
       "      <th>Subscription</th>\n",
       "      <th></th>\n",
       "    </tr>\n",
       "  </thead>\n",
       "  <tbody>\n",
       "    <tr>\n",
       "      <th>OLDER FAMILIES</th>\n",
       "      <th>Premium</th>\n",
       "      <td>1.292282</td>\n",
       "    </tr>\n",
       "    <tr>\n",
       "      <th>YOUNG FAMILIES</th>\n",
       "      <th>Mainstream</th>\n",
       "      <td>1.256545</td>\n",
       "    </tr>\n",
       "    <tr>\n",
       "      <th>OLDER FAMILIES</th>\n",
       "      <th>Budget</th>\n",
       "      <td>1.246970</td>\n",
       "    </tr>\n",
       "    <tr>\n",
       "      <th>YOUNG FAMILIES</th>\n",
       "      <th>Premium</th>\n",
       "      <td>1.246400</td>\n",
       "    </tr>\n",
       "    <tr>\n",
       "      <th>OLDER FAMILIES</th>\n",
       "      <th>Mainstream</th>\n",
       "      <td>1.229167</td>\n",
       "    </tr>\n",
       "    <tr>\n",
       "      <th>YOUNG FAMILIES</th>\n",
       "      <th>Budget</th>\n",
       "      <td>1.221024</td>\n",
       "    </tr>\n",
       "    <tr>\n",
       "      <th rowspan=\"2\" valign=\"top\">MIDAGE SINGLES/COUPLES</th>\n",
       "      <th>Premium</th>\n",
       "      <td>1.177388</td>\n",
       "    </tr>\n",
       "    <tr>\n",
       "      <th>Budget</th>\n",
       "      <td>1.166667</td>\n",
       "    </tr>\n",
       "    <tr>\n",
       "      <th rowspan=\"3\" valign=\"top\">OLDER SINGLES/COUPLES</th>\n",
       "      <th>Mainstream</th>\n",
       "      <td>1.163889</td>\n",
       "    </tr>\n",
       "    <tr>\n",
       "      <th>Premium</th>\n",
       "      <td>1.163743</td>\n",
       "    </tr>\n",
       "    <tr>\n",
       "      <th>Budget</th>\n",
       "      <td>1.161806</td>\n",
       "    </tr>\n",
       "    <tr>\n",
       "      <th>MIDAGE SINGLES/COUPLES</th>\n",
       "      <th>Mainstream</th>\n",
       "      <td>1.147275</td>\n",
       "    </tr>\n",
       "    <tr>\n",
       "      <th rowspan=\"3\" valign=\"top\">RETIREES</th>\n",
       "      <th>Premium</th>\n",
       "      <td>1.146667</td>\n",
       "    </tr>\n",
       "    <tr>\n",
       "      <th>Mainstream</th>\n",
       "      <td>1.143731</td>\n",
       "    </tr>\n",
       "    <tr>\n",
       "      <th>Budget</th>\n",
       "      <td>1.116705</td>\n",
       "    </tr>\n",
       "    <tr>\n",
       "      <th rowspan=\"2\" valign=\"top\">YOUNG SINGLES/COUPLES</th>\n",
       "      <th>Mainstream</th>\n",
       "      <td>1.104553</td>\n",
       "    </tr>\n",
       "    <tr>\n",
       "      <th>Premium</th>\n",
       "      <td>1.097187</td>\n",
       "    </tr>\n",
       "    <tr>\n",
       "      <th rowspan=\"2\" valign=\"top\">NEW FAMILIES</th>\n",
       "      <th>Premium</th>\n",
       "      <td>1.086022</td>\n",
       "    </tr>\n",
       "    <tr>\n",
       "      <th>Mainstream</th>\n",
       "      <td>1.085271</td>\n",
       "    </tr>\n",
       "    <tr>\n",
       "      <th>YOUNG SINGLES/COUPLES</th>\n",
       "      <th>Budget</th>\n",
       "      <td>1.080775</td>\n",
       "    </tr>\n",
       "    <tr>\n",
       "      <th>NEW FAMILIES</th>\n",
       "      <th>Budget</th>\n",
       "      <td>1.071006</td>\n",
       "    </tr>\n",
       "  </tbody>\n",
       "</table>\n",
       "</div>"
      ],
      "text/plain": [
       "                                         mean\n",
       "Group                  Subscription          \n",
       "OLDER FAMILIES         Premium       1.292282\n",
       "YOUNG FAMILIES         Mainstream    1.256545\n",
       "OLDER FAMILIES         Budget        1.246970\n",
       "YOUNG FAMILIES         Premium       1.246400\n",
       "OLDER FAMILIES         Mainstream    1.229167\n",
       "YOUNG FAMILIES         Budget        1.221024\n",
       "MIDAGE SINGLES/COUPLES Premium       1.177388\n",
       "                       Budget        1.166667\n",
       "OLDER SINGLES/COUPLES  Mainstream    1.163889\n",
       "                       Premium       1.163743\n",
       "                       Budget        1.161806\n",
       "MIDAGE SINGLES/COUPLES Mainstream    1.147275\n",
       "RETIREES               Premium       1.146667\n",
       "                       Mainstream    1.143731\n",
       "                       Budget        1.116705\n",
       "YOUNG SINGLES/COUPLES  Mainstream    1.104553\n",
       "                       Premium       1.097187\n",
       "NEW FAMILIES           Premium       1.086022\n",
       "                       Mainstream    1.085271\n",
       "YOUNG SINGLES/COUPLES  Budget        1.080775\n",
       "NEW FAMILIES           Budget        1.071006"
      ]
     },
     "execution_count": 60,
     "metadata": {},
     "output_type": "execute_result"
    }
   ],
   "source": [
    "#chips from groups by individual (avg)\n",
    "segment_shop_chips = chips_shop_per_segment.groupby([\"Group\", \"Subscription\"]).agg([\"mean\"]).sort_values(ascending = False, by = \"mean\")\n",
    "segment_shop_chips"
   ]
  },
  {
   "cell_type": "code",
   "execution_count": 61,
   "id": "037b4e42",
   "metadata": {},
   "outputs": [
    {
     "ename": "NameError",
     "evalue": "name 'plt' is not defined",
     "output_type": "error",
     "traceback": [
      "\u001b[1;31m---------------------------------------------------------------------------\u001b[0m",
      "\u001b[1;31mNameError\u001b[0m                                 Traceback (most recent call last)",
      "\u001b[1;32m<ipython-input-61-71b84b87ae23>\u001b[0m in \u001b[0;36m<module>\u001b[1;34m\u001b[0m\n\u001b[0;32m      1\u001b[0m \u001b[1;31m#Histogram of shopping by segment\u001b[0m\u001b[1;33m\u001b[0m\u001b[1;33m\u001b[0m\u001b[1;33m\u001b[0m\u001b[0m\n\u001b[0;32m      2\u001b[0m \u001b[0msegment_shop_chips\u001b[0m\u001b[1;33m[\u001b[0m\u001b[1;34m\"mean\"\u001b[0m\u001b[1;33m]\u001b[0m\u001b[1;33m.\u001b[0m\u001b[0msort_values\u001b[0m\u001b[1;33m(\u001b[0m\u001b[1;33m)\u001b[0m\u001b[1;33m.\u001b[0m\u001b[0mplot\u001b[0m\u001b[1;33m.\u001b[0m\u001b[0mbarh\u001b[0m\u001b[1;33m(\u001b[0m\u001b[0mfigsize\u001b[0m \u001b[1;33m=\u001b[0m \u001b[1;33m(\u001b[0m\u001b[1;36m12\u001b[0m\u001b[1;33m,\u001b[0m\u001b[1;36m7\u001b[0m\u001b[1;33m)\u001b[0m\u001b[1;33m)\u001b[0m\u001b[1;33m\u001b[0m\u001b[1;33m\u001b[0m\u001b[0m\n\u001b[1;32m----> 3\u001b[1;33m \u001b[0mplt\u001b[0m\u001b[1;33m.\u001b[0m\u001b[0mshow\u001b[0m\u001b[1;33m(\u001b[0m\u001b[1;33m)\u001b[0m\u001b[1;33m\u001b[0m\u001b[1;33m\u001b[0m\u001b[0m\n\u001b[0m",
      "\u001b[1;31mNameError\u001b[0m: name 'plt' is not defined"
     ]
    },
    {
     "data": {
      "image/png": "[encoded data removed]",
      "text/plain": [
       "<Figure size 864x504 with 1 Axes>"
      ]
     },
     "metadata": {
      "needs_background": "light"
     },
     "output_type": "display_data"
    }
   ],
   "source": [
    "#Histogram of shopping by segment\n",
    "segment_shop_chips[\"mean\"].sort_values().plot.barh(figsize = (12,7))\n",
    "plt.show()"
   ]
  },
  {
   "cell_type": "code",
   "execution_count": 62,
   "id": "a3f48b40",
   "metadata": {},
   "outputs": [
    {
     "data": {
      "text/html": [
       "<div>\n",
       "<style scoped>\n",
       "    .dataframe tbody tr th:only-of-type {\n",
       "        vertical-align: middle;\n",
       "    }\n",
       "\n",
       "    .dataframe tbody tr th {\n",
       "        vertical-align: top;\n",
       "    }\n",
       "\n",
       "    .dataframe thead th {\n",
       "        text-align: right;\n",
       "    }\n",
       "</style>\n",
       "<table border=\"1\" class=\"dataframe\">\n",
       "  <thead>\n",
       "    <tr style=\"text-align: right;\">\n",
       "      <th></th>\n",
       "      <th></th>\n",
       "      <th>mean</th>\n",
       "    </tr>\n",
       "    <tr>\n",
       "      <th>Group</th>\n",
       "      <th>Subscription</th>\n",
       "      <th></th>\n",
       "    </tr>\n",
       "  </thead>\n",
       "  <tbody>\n",
       "    <tr>\n",
       "      <th>MIDAGE SINGLES/COUPLES</th>\n",
       "      <th>Mainstream</th>\n",
       "      <td>7.791528</td>\n",
       "    </tr>\n",
       "    <tr>\n",
       "      <th>YOUNG SINGLES/COUPLES</th>\n",
       "      <th>Mainstream</th>\n",
       "      <td>7.663664</td>\n",
       "    </tr>\n",
       "    <tr>\n",
       "      <th>RETIREES</th>\n",
       "      <th>Budget</th>\n",
       "      <td>7.409324</td>\n",
       "    </tr>\n",
       "    <tr>\n",
       "      <th>NEW FAMILIES</th>\n",
       "      <th>Mainstream</th>\n",
       "      <td>7.387143</td>\n",
       "    </tr>\n",
       "    <tr>\n",
       "      <th>RETIREES</th>\n",
       "      <th>Premium</th>\n",
       "      <td>7.383023</td>\n",
       "    </tr>\n",
       "    <tr>\n",
       "      <th>OLDER SINGLES/COUPLES</th>\n",
       "      <th>Premium</th>\n",
       "      <td>7.307873</td>\n",
       "    </tr>\n",
       "    <tr>\n",
       "      <th>NEW FAMILIES</th>\n",
       "      <th>Budget</th>\n",
       "      <td>7.298343</td>\n",
       "    </tr>\n",
       "    <tr>\n",
       "      <th>OLDER SINGLES/COUPLES</th>\n",
       "      <th>Budget</th>\n",
       "      <td>7.235789</td>\n",
       "    </tr>\n",
       "    <tr>\n",
       "      <th>NEW FAMILIES</th>\n",
       "      <th>Premium</th>\n",
       "      <td>7.230693</td>\n",
       "    </tr>\n",
       "    <tr>\n",
       "      <th>YOUNG FAMILIES</th>\n",
       "      <th>Budget</th>\n",
       "      <td>7.084547</td>\n",
       "    </tr>\n",
       "    <tr>\n",
       "      <th>RETIREES</th>\n",
       "      <th>Mainstream</th>\n",
       "      <td>7.024131</td>\n",
       "    </tr>\n",
       "    <tr>\n",
       "      <th>OLDER FAMILIES</th>\n",
       "      <th>Mainstream</th>\n",
       "      <td>7.010967</td>\n",
       "    </tr>\n",
       "    <tr>\n",
       "      <th>YOUNG FAMILIES</th>\n",
       "      <th>Premium</th>\n",
       "      <td>7.001027</td>\n",
       "    </tr>\n",
       "    <tr>\n",
       "      <th>OLDER FAMILIES</th>\n",
       "      <th>Budget</th>\n",
       "      <td>6.986330</td>\n",
       "    </tr>\n",
       "    <tr>\n",
       "      <th>OLDER SINGLES/COUPLES</th>\n",
       "      <th>Mainstream</th>\n",
       "      <td>6.957279</td>\n",
       "    </tr>\n",
       "    <tr>\n",
       "      <th>OLDER FAMILIES</th>\n",
       "      <th>Premium</th>\n",
       "      <td>6.881576</td>\n",
       "    </tr>\n",
       "    <tr>\n",
       "      <th>YOUNG FAMILIES</th>\n",
       "      <th>Mainstream</th>\n",
       "      <td>6.719271</td>\n",
       "    </tr>\n",
       "    <tr>\n",
       "      <th rowspan=\"2\" valign=\"top\">MIDAGE SINGLES/COUPLES</th>\n",
       "      <th>Premium</th>\n",
       "      <td>6.603974</td>\n",
       "    </tr>\n",
       "    <tr>\n",
       "      <th>Budget</th>\n",
       "      <td>6.593009</td>\n",
       "    </tr>\n",
       "    <tr>\n",
       "      <th rowspan=\"2\" valign=\"top\">YOUNG SINGLES/COUPLES</th>\n",
       "      <th>Premium</th>\n",
       "      <td>6.036830</td>\n",
       "    </tr>\n",
       "    <tr>\n",
       "      <th>Budget</th>\n",
       "      <td>6.008221</td>\n",
       "    </tr>\n",
       "  </tbody>\n",
       "</table>\n",
       "</div>"
      ],
      "text/plain": [
       "                                         mean\n",
       "Group                  Subscription          \n",
       "MIDAGE SINGLES/COUPLES Mainstream    7.791528\n",
       "YOUNG SINGLES/COUPLES  Mainstream    7.663664\n",
       "RETIREES               Budget        7.409324\n",
       "NEW FAMILIES           Mainstream    7.387143\n",
       "RETIREES               Premium       7.383023\n",
       "OLDER SINGLES/COUPLES  Premium       7.307873\n",
       "NEW FAMILIES           Budget        7.298343\n",
       "OLDER SINGLES/COUPLES  Budget        7.235789\n",
       "NEW FAMILIES           Premium       7.230693\n",
       "YOUNG FAMILIES         Budget        7.084547\n",
       "RETIREES               Mainstream    7.024131\n",
       "OLDER FAMILIES         Mainstream    7.010967\n",
       "YOUNG FAMILIES         Premium       7.001027\n",
       "OLDER FAMILIES         Budget        6.986330\n",
       "OLDER SINGLES/COUPLES  Mainstream    6.957279\n",
       "OLDER FAMILIES         Premium       6.881576\n",
       "YOUNG FAMILIES         Mainstream    6.719271\n",
       "MIDAGE SINGLES/COUPLES Premium       6.603974\n",
       "                       Budget        6.593009\n",
       "YOUNG SINGLES/COUPLES  Premium       6.036830\n",
       "                       Budget        6.008221"
      ]
     },
     "execution_count": 62,
     "metadata": {},
     "output_type": "execute_result"
    }
   ],
   "source": [
    "#average chip price by customer segment\n",
    "avg_chips_price_cust_segment = data.groupby([\"Group\", \"Subscription\"])[\"Sales\"].agg([\"mean\"]).sort_values(ascending = False, by = \"mean\")\n",
    "avg_chips_price_cust_segment"
   ]
  },
  {
   "cell_type": "code",
   "execution_count": 63,
   "id": "8cc12cd9",
   "metadata": {},
   "outputs": [
    {
     "data": {
      "text/plain": [
       "<AxesSubplot:ylabel='Group,Subscription'>"
      ]
     },
     "execution_count": 63,
     "metadata": {},
     "output_type": "execute_result"
    },
    {
     "data": {
      "image/png": "[encoded data removed]",
      "text/plain": [
       "<Figure size 864x504 with 1 Axes>"
      ]
     },
     "metadata": {
      "needs_background": "light"
     },
     "output_type": "display_data"
    }
   ],
   "source": [
    "#histogram of average chip price\n",
    "avg_chips_price_cust_segment.plot.barh(figsize = (12,7))"
   ]
  },
  {
   "cell_type": "code",
   "execution_count": 72,
   "id": "5497733d",
   "metadata": {},
   "outputs": [
    {
     "name": "stdout",
     "output_type": "stream",
     "text": [
      "1.4632059977431753e-47\n"
     ]
    },
    {
     "data": {
      "text/plain": [
       "True"
      ]
     },
     "execution_count": 72,
     "metadata": {},
     "output_type": "execute_result"
    }
   ],
   "source": [
    "#T-Test\n",
    "import scipy.stats as stats\n",
    "mainstream = data[\"Subscription\"] == \"Mainstream\"\n",
    "budget_premium = (data[\"Subscription\"] == \"Budget\") |(data[\"Subscription\"] == \"Premium\")\n",
    "young_midage = (data[\"Group\"] == \"MIDAGE SINGLES/COUPLES\")|(data[\"Group\"] == \"YOUNG SINGLES/COUPLES\")\n",
    "\n",
    "a=data[young_midage & mainstream][\"Sales\"]\n",
    "b=data[young_midage & budget_premium][\"Sales\"]\n",
    "\n",
    "stat, pval=stats.ttest_ind(a.values, b.values, equal_var = False)\n",
    "print(pval)\n",
    "pval < 0.0000001"
   ]
  },
  {
   "cell_type": "code",
   "execution_count": 73,
   "id": "b40a077e",
   "metadata": {},
   "outputs": [
    {
     "data": {
      "text/html": [
       "<div>\n",
       "<style scoped>\n",
       "    .dataframe tbody tr th:only-of-type {\n",
       "        vertical-align: middle;\n",
       "    }\n",
       "\n",
       "    .dataframe tbody tr th {\n",
       "        vertical-align: top;\n",
       "    }\n",
       "\n",
       "    .dataframe thead th {\n",
       "        text-align: right;\n",
       "    }\n",
       "</style>\n",
       "<table border=\"1\" class=\"dataframe\">\n",
       "  <thead>\n",
       "    <tr style=\"text-align: right;\">\n",
       "      <th></th>\n",
       "      <th></th>\n",
       "      <th>Brand</th>\n",
       "    </tr>\n",
       "    <tr>\n",
       "      <th>Group</th>\n",
       "      <th>Subscription</th>\n",
       "      <th></th>\n",
       "    </tr>\n",
       "  </thead>\n",
       "  <tbody>\n",
       "    <tr>\n",
       "      <th>MIDAGE SINGLES/COUPLES</th>\n",
       "      <th>Budget</th>\n",
       "      <td>Old</td>\n",
       "    </tr>\n",
       "    <tr>\n",
       "      <th>YOUNG SINGLES/COUPLES</th>\n",
       "      <th>Budget</th>\n",
       "      <td>Old</td>\n",
       "    </tr>\n",
       "    <tr>\n",
       "      <th rowspan=\"3\" valign=\"top\">YOUNG FAMILIES</th>\n",
       "      <th>Premium</th>\n",
       "      <td>Old</td>\n",
       "    </tr>\n",
       "    <tr>\n",
       "      <th>Mainstream</th>\n",
       "      <td>Old</td>\n",
       "    </tr>\n",
       "    <tr>\n",
       "      <th>Budget</th>\n",
       "      <td>Old</td>\n",
       "    </tr>\n",
       "    <tr>\n",
       "      <th rowspan=\"3\" valign=\"top\">RETIREES</th>\n",
       "      <th>Premium</th>\n",
       "      <td>Old</td>\n",
       "    </tr>\n",
       "    <tr>\n",
       "      <th>Mainstream</th>\n",
       "      <td>Old</td>\n",
       "    </tr>\n",
       "    <tr>\n",
       "      <th>Budget</th>\n",
       "      <td>Old</td>\n",
       "    </tr>\n",
       "    <tr>\n",
       "      <th>OLDER SINGLES/COUPLES</th>\n",
       "      <th>Premium</th>\n",
       "      <td>Old</td>\n",
       "    </tr>\n",
       "    <tr>\n",
       "      <th>YOUNG SINGLES/COUPLES</th>\n",
       "      <th>Mainstream</th>\n",
       "      <td>Old</td>\n",
       "    </tr>\n",
       "    <tr>\n",
       "      <th>OLDER SINGLES/COUPLES</th>\n",
       "      <th>Mainstream</th>\n",
       "      <td>Old</td>\n",
       "    </tr>\n",
       "    <tr>\n",
       "      <th rowspan=\"3\" valign=\"top\">OLDER FAMILIES</th>\n",
       "      <th>Premium</th>\n",
       "      <td>Old</td>\n",
       "    </tr>\n",
       "    <tr>\n",
       "      <th>Mainstream</th>\n",
       "      <td>Old</td>\n",
       "    </tr>\n",
       "    <tr>\n",
       "      <th>Budget</th>\n",
       "      <td>Old</td>\n",
       "    </tr>\n",
       "    <tr>\n",
       "      <th rowspan=\"3\" valign=\"top\">NEW FAMILIES</th>\n",
       "      <th>Premium</th>\n",
       "      <td>Old</td>\n",
       "    </tr>\n",
       "    <tr>\n",
       "      <th>Mainstream</th>\n",
       "      <td>Old</td>\n",
       "    </tr>\n",
       "    <tr>\n",
       "      <th>Budget</th>\n",
       "      <td>Old</td>\n",
       "    </tr>\n",
       "    <tr>\n",
       "      <th rowspan=\"2\" valign=\"top\">MIDAGE SINGLES/COUPLES</th>\n",
       "      <th>Premium</th>\n",
       "      <td>Old</td>\n",
       "    </tr>\n",
       "    <tr>\n",
       "      <th>Mainstream</th>\n",
       "      <td>Old</td>\n",
       "    </tr>\n",
       "    <tr>\n",
       "      <th>OLDER SINGLES/COUPLES</th>\n",
       "      <th>Budget</th>\n",
       "      <td>Old</td>\n",
       "    </tr>\n",
       "    <tr>\n",
       "      <th>YOUNG SINGLES/COUPLES</th>\n",
       "      <th>Premium</th>\n",
       "      <td>Old</td>\n",
       "    </tr>\n",
       "  </tbody>\n",
       "</table>\n",
       "</div>"
      ],
      "text/plain": [
       "                                    Brand\n",
       "Group                  Subscription      \n",
       "MIDAGE SINGLES/COUPLES Budget         Old\n",
       "YOUNG SINGLES/COUPLES  Budget         Old\n",
       "YOUNG FAMILIES         Premium        Old\n",
       "                       Mainstream     Old\n",
       "                       Budget         Old\n",
       "RETIREES               Premium        Old\n",
       "                       Mainstream     Old\n",
       "                       Budget         Old\n",
       "OLDER SINGLES/COUPLES  Premium        Old\n",
       "YOUNG SINGLES/COUPLES  Mainstream     Old\n",
       "OLDER SINGLES/COUPLES  Mainstream     Old\n",
       "OLDER FAMILIES         Premium        Old\n",
       "                       Mainstream     Old\n",
       "                       Budget         Old\n",
       "NEW FAMILIES           Premium        Old\n",
       "                       Mainstream     Old\n",
       "                       Budget         Old\n",
       "MIDAGE SINGLES/COUPLES Premium        Old\n",
       "                       Mainstream     Old\n",
       "OLDER SINGLES/COUPLES  Budget         Old\n",
       "YOUNG SINGLES/COUPLES  Premium        Old"
      ]
     },
     "execution_count": 73,
     "metadata": {},
     "output_type": "execute_result"
    }
   ],
   "source": [
    "# what brand of chips the top 3 segments contributing to total sales are buying\n",
    "data.groupby([\"Group\", \"Subscription\"])[\"Brand\"].agg(pd.Series.mode).sort_values().to_frame()"
   ]
  },
  {
   "cell_type": "code",
   "execution_count": 75,
   "id": "4e842cb8",
   "metadata": {},
   "outputs": [
    {
     "name": "stdout",
     "output_type": "stream",
     "text": [
      "============ MIDAGE SINGLES/COUPLES - Budget ===========\n",
      "Old           144\n",
      "Woolworths     56\n",
      "Doritos        54\n",
      "Name: Brand, dtype: int64\n"
     ]
    },
    {
     "data": {
      "image/png": "[encoded data removed]",
      "text/plain": [
       "<Figure size 360x72 with 1 Axes>"
      ]
     },
     "metadata": {
      "needs_background": "light"
     },
     "output_type": "display_data"
    },
    {
     "name": "stdout",
     "output_type": "stream",
     "text": [
      "============ MIDAGE SINGLES/COUPLES - Mainstream ===========\n",
      "Old           501\n",
      "Woolworths     92\n",
      "Doritos        81\n",
      "Name: Brand, dtype: int64\n"
     ]
    },
    {
     "data": {
      "image/png": "[encoded data removed]",
      "text/plain": [
       "<Figure size 360x72 with 1 Axes>"
      ]
     },
     "metadata": {
      "needs_background": "light"
     },
     "output_type": "display_data"
    },
    {
     "name": "stdout",
     "output_type": "stream",
     "text": [
      "============ MIDAGE SINGLES/COUPLES - Premium ===========\n",
      "Old           270\n",
      "Woolworths    109\n",
      "Doritos       103\n",
      "Name: Brand, dtype: int64\n"
     ]
    },
    {
     "data": {
      "image/png": "[encoded data removed]",
      "text/plain": [
       "<Figure size 360x72 with 1 Axes>"
      ]
     },
     "metadata": {
      "needs_background": "light"
     },
     "output_type": "display_data"
    },
    {
     "name": "stdout",
     "output_type": "stream",
     "text": [
      "============ NEW FAMILIES - Budget ===========\n",
      "Old           107\n",
      "Doritos        28\n",
      "Woolworths     23\n",
      "Name: Brand, dtype: int64\n"
     ]
    },
    {
     "data": {
      "image/png": "[encoded data removed]",
      "text/plain": [
       "<Figure size 360x72 with 1 Axes>"
      ]
     },
     "metadata": {
      "needs_background": "light"
     },
     "output_type": "display_data"
    },
    {
     "name": "stdout",
     "output_type": "stream",
     "text": [
      "============ NEW FAMILIES - Mainstream ===========\n",
      "Old           82\n",
      "Woolworths    19\n",
      "Doritos       17\n",
      "Name: Brand, dtype: int64\n"
     ]
    },
    {
     "data": {
      "image/png": "[encoded data removed]",
      "text/plain": [
       "<Figure size 360x72 with 1 Axes>"
      ]
     },
     "metadata": {
      "needs_background": "light"
     },
     "output_type": "display_data"
    },
    {
     "name": "stdout",
     "output_type": "stream",
     "text": [
      "============ NEW FAMILIES - Premium ===========\n",
      "Old           56\n",
      "Doritos       13\n",
      "Woolworths    12\n",
      "Name: Brand, dtype: int64\n"
     ]
    },
    {
     "data": {
      "image/png": "[encoded data removed]",
      "text/plain": [
       "<Figure size 360x72 with 1 Axes>"
      ]
     },
     "metadata": {
      "needs_background": "light"
     },
     "output_type": "display_data"
    },
    {
     "name": "stdout",
     "output_type": "stream",
     "text": [
      "============ OLDER FAMILIES - Budget ===========\n",
      "Old           758\n",
      "Doritos       319\n",
      "Woolworths    275\n",
      "Name: Brand, dtype: int64\n"
     ]
    },
    {
     "data": {
      "image/png": "[encoded data removed]",
      "text/plain": [
       "<Figure size 360x72 with 1 Axes>"
      ]
     },
     "metadata": {
      "needs_background": "light"
     },
     "output_type": "display_data"
    },
    {
     "name": "stdout",
     "output_type": "stream",
     "text": [
      "============ OLDER FAMILIES - Mainstream ===========\n",
      "Old           474\n",
      "Doritos       186\n",
      "Woolworths    173\n",
      "Name: Brand, dtype: int64\n"
     ]
    },
    {
     "data": {
      "image/png": "[encoded data removed]",
      "text/plain": [
       "<Figure size 360x72 with 1 Axes>"
      ]
     },
     "metadata": {
      "needs_background": "light"
     },
     "output_type": "display_data"
    },
    {
     "name": "stdout",
     "output_type": "stream",
     "text": [
      "============ OLDER FAMILIES - Premium ===========\n",
      "Old           357\n",
      "Woolworths    145\n",
      "Doritos       142\n",
      "Name: Brand, dtype: int64\n"
     ]
    },
    {
     "data": {
      "image/png": "[encoded data removed]",
      "text/plain": [
       "<Figure size 360x72 with 1 Axes>"
      ]
     },
     "metadata": {
      "needs_background": "light"
     },
     "output_type": "display_data"
    },
    {
     "name": "stdout",
     "output_type": "stream",
     "text": [
      "============ OLDER SINGLES/COUPLES - Budget ===========\n",
      "Old           674\n",
      "Doritos       203\n",
      "Woolworths    185\n",
      "Name: Brand, dtype: int64\n"
     ]
    },
    {
     "data": {
      "image/png": "[encoded data removed]",
      "text/plain": [
       "<Figure size 360x72 with 1 Axes>"
      ]
     },
     "metadata": {
      "needs_background": "light"
     },
     "output_type": "display_data"
    },
    {
     "name": "stdout",
     "output_type": "stream",
     "text": [
      "============ OLDER SINGLES/COUPLES - Mainstream ===========\n",
      "Old           618\n",
      "Doritos       217\n",
      "Woolworths    207\n",
      "Name: Brand, dtype: int64\n"
     ]
    },
    {
     "data": {
      "image/png": "[encoded data removed]",
      "text/plain": [
       "<Figure size 360x72 with 1 Axes>"
      ]
     },
     "metadata": {
      "needs_background": "light"
     },
     "output_type": "display_data"
    },
    {
     "name": "stdout",
     "output_type": "stream",
     "text": [
      "============ OLDER SINGLES/COUPLES - Premium ===========\n",
      "Old           653\n",
      "Woolworths    185\n",
      "Doritos       174\n",
      "Name: Brand, dtype: int64\n"
     ]
    },
    {
     "data": {
      "image/png": "[encoded data removed]",
      "text/plain": [
       "<Figure size 360x72 with 1 Axes>"
      ]
     },
     "metadata": {
      "needs_background": "light"
     },
     "output_type": "display_data"
    },
    {
     "name": "stdout",
     "output_type": "stream",
     "text": [
      "============ RETIREES - Budget ===========\n",
      "Old           569\n",
      "Doritos       150\n",
      "Woolworths    118\n",
      "Name: Brand, dtype: int64\n"
     ]
    },
    {
     "data": {
      "image/png": "[encoded data removed]",
      "text/plain": [
       "<Figure size 360x72 with 1 Axes>"
      ]
     },
     "metadata": {
      "needs_background": "light"
     },
     "output_type": "display_data"
    },
    {
     "name": "stdout",
     "output_type": "stream",
     "text": [
      "============ RETIREES - Mainstream ===========\n",
      "Old           764\n",
      "Woolworths    269\n",
      "Doritos       231\n",
      "Name: Brand, dtype: int64\n"
     ]
    },
    {
     "data": {
      "image/png": "[encoded data removed]",
      "text/plain": [
       "<Figure size 360x72 with 1 Axes>"
      ]
     },
     "metadata": {
      "needs_background": "light"
     },
     "output_type": "display_data"
    },
    {
     "name": "stdout",
     "output_type": "stream",
     "text": [
      "============ RETIREES - Premium ===========\n",
      "Old           506\n",
      "Woolworths    119\n",
      "Doritos       103\n",
      "Name: Brand, dtype: int64\n"
     ]
    },
    {
     "data": {
      "image/png": "[encoded data removed]",
      "text/plain": [
       "<Figure size 360x72 with 1 Axes>"
      ]
     },
     "metadata": {
      "needs_background": "light"
     },
     "output_type": "display_data"
    },
    {
     "name": "stdout",
     "output_type": "stream",
     "text": [
      "============ YOUNG FAMILIES - Budget ===========\n",
      "Old           672\n",
      "Doritos       229\n",
      "Woolworths    226\n",
      "Name: Brand, dtype: int64\n"
     ]
    },
    {
     "data": {
      "image/png": "[encoded data removed]",
      "text/plain": [
       "<Figure size 360x72 with 1 Axes>"
      ]
     },
     "metadata": {
      "needs_background": "light"
     },
     "output_type": "display_data"
    },
    {
     "name": "stdout",
     "output_type": "stream",
     "text": [
      "============ YOUNG FAMILIES - Mainstream ===========\n",
      "Old           419\n",
      "Doritos       184\n",
      "Woolworths    183\n",
      "Name: Brand, dtype: int64\n"
     ]
    },
    {
     "data": {
      "image/png": "[encoded data removed]",
      "text/plain": [
       "<Figure size 360x72 with 1 Axes>"
      ]
     },
     "metadata": {
      "needs_background": "light"
     },
     "output_type": "display_data"
    },
    {
     "name": "stdout",
     "output_type": "stream",
     "text": [
      "============ YOUNG FAMILIES - Premium ===========\n",
      "Old           376\n",
      "Woolworths    141\n",
      "Doritos       127\n",
      "Name: Brand, dtype: int64\n"
     ]
    },
    {
     "data": {
      "image/png": "[encoded data removed]",
      "text/plain": [
       "<Figure size 360x72 with 1 Axes>"
      ]
     },
     "metadata": {
      "needs_background": "light"
     },
     "output_type": "display_data"
    },
    {
     "name": "stdout",
     "output_type": "stream",
     "text": [
      "============ YOUNG SINGLES/COUPLES - Budget ===========\n",
      "Old           279\n",
      "Woolworths    159\n",
      "Doritos       117\n",
      "Name: Brand, dtype: int64\n"
     ]
    },
    {
     "data": {
      "image/png": "[encoded data removed]",
      "text/plain": [
       "<Figure size 360x72 with 1 Axes>"
      ]
     },
     "metadata": {
      "needs_background": "light"
     },
     "output_type": "display_data"
    },
    {
     "name": "stdout",
     "output_type": "stream",
     "text": [
      "============ YOUNG SINGLES/COUPLES - Mainstream ===========\n",
      "Old           867\n",
      "Doritos       162\n",
      "Woolworths    120\n",
      "Name: Brand, dtype: int64\n"
     ]
    },
    {
     "data": {
      "image/png": "[encoded data removed]",
      "text/plain": [
       "<Figure size 360x72 with 1 Axes>"
      ]
     },
     "metadata": {
      "needs_background": "light"
     },
     "output_type": "display_data"
    },
    {
     "name": "stdout",
     "output_type": "stream",
     "text": [
      "============ YOUNG SINGLES/COUPLES - Premium ===========\n",
      "Old           178\n",
      "Woolworths    105\n",
      "Doritos        81\n",
      "Name: Brand, dtype: int64\n"
     ]
    },
    {
     "data": {
      "image/png": "[encoded data removed]",
      "text/plain": [
       "<Figure size 360x72 with 1 Axes>"
      ]
     },
     "metadata": {
      "needs_background": "light"
     },
     "output_type": "display_data"
    }
   ],
   "source": [
    "# chips brand old is the most purchased brand\n",
    "import matplotlib.pyplot as plt\n",
    "for stage in data[\"Group\"].unique():\n",
    "    for subs in data[\"Subscription\"].unique():\n",
    "        print(\"============\", stage, \"-\" , subs, \"===========\")\n",
    "        summary = data[(data[\"Group\"] == stage) & (data[\"Subscription\"] == subs)][\"Brand\"].value_counts().head(3)\n",
    "        print(summary)\n",
    "        plt.figure()\n",
    "        summary.plot.barh(figsize = (5,1))\n",
    "        plt.show()"
   ]
  },
  {
   "cell_type": "code",
   "execution_count": 77,
   "id": "95f21580",
   "metadata": {},
   "outputs": [
    {
     "data": {
      "text/html": [
       "<div>\n",
       "<style scoped>\n",
       "    .dataframe tbody tr th:only-of-type {\n",
       "        vertical-align: middle;\n",
       "    }\n",
       "\n",
       "    .dataframe tbody tr th {\n",
       "        vertical-align: top;\n",
       "    }\n",
       "\n",
       "    .dataframe thead th {\n",
       "        text-align: right;\n",
       "    }\n",
       "</style>\n",
       "<table border=\"1\" class=\"dataframe\">\n",
       "  <thead>\n",
       "    <tr style=\"text-align: right;\">\n",
       "      <th></th>\n",
       "      <th>Date</th>\n",
       "      <th>Store ID</th>\n",
       "      <th>Card Number</th>\n",
       "      <th>Transaction ID</th>\n",
       "      <th>Product ID</th>\n",
       "      <th>Product</th>\n",
       "      <th>Quantity</th>\n",
       "      <th>Sales</th>\n",
       "      <th>Group</th>\n",
       "      <th>Subscription</th>\n",
       "      <th>Brand</th>\n",
       "      <th>Size</th>\n",
       "    </tr>\n",
       "  </thead>\n",
       "  <tbody>\n",
       "    <tr>\n",
       "      <th>5</th>\n",
       "      <td>2019-05-19</td>\n",
       "      <td>4</td>\n",
       "      <td>4074</td>\n",
       "      <td>2982</td>\n",
       "      <td>57</td>\n",
       "      <td>Old El Paso Salsa   Dip Tomato Mild 300g</td>\n",
       "      <td>1</td>\n",
       "      <td>5.1</td>\n",
       "      <td>MIDAGE SINGLES/COUPLES</td>\n",
       "      <td>Budget</td>\n",
       "      <td>Old</td>\n",
       "      <td>300.0</td>\n",
       "    </tr>\n",
       "    <tr>\n",
       "      <th>25</th>\n",
       "      <td>2019-05-15</td>\n",
       "      <td>39</td>\n",
       "      <td>39144</td>\n",
       "      <td>35506</td>\n",
       "      <td>57</td>\n",
       "      <td>Old El Paso Salsa   Dip Tomato Mild 300g</td>\n",
       "      <td>1</td>\n",
       "      <td>5.1</td>\n",
       "      <td>MIDAGE SINGLES/COUPLES</td>\n",
       "      <td>Budget</td>\n",
       "      <td>Old</td>\n",
       "      <td>300.0</td>\n",
       "    </tr>\n",
       "    <tr>\n",
       "      <th>32</th>\n",
       "      <td>2019-05-20</td>\n",
       "      <td>45</td>\n",
       "      <td>45127</td>\n",
       "      <td>41122</td>\n",
       "      <td>64</td>\n",
       "      <td>Red Rock Deli SR    Salsa &amp; Mzzrlla 150g</td>\n",
       "      <td>2</td>\n",
       "      <td>5.4</td>\n",
       "      <td>MIDAGE SINGLES/COUPLES</td>\n",
       "      <td>Budget</td>\n",
       "      <td>Red</td>\n",
       "      <td>150.0</td>\n",
       "    </tr>\n",
       "    <tr>\n",
       "      <th>44</th>\n",
       "      <td>2018-08-18</td>\n",
       "      <td>56</td>\n",
       "      <td>56013</td>\n",
       "      <td>50090</td>\n",
       "      <td>39</td>\n",
       "      <td>Smiths Crinkle Cut  Tomato Salsa 150g</td>\n",
       "      <td>1</td>\n",
       "      <td>2.6</td>\n",
       "      <td>MIDAGE SINGLES/COUPLES</td>\n",
       "      <td>Budget</td>\n",
       "      <td>Smiths</td>\n",
       "      <td>150.0</td>\n",
       "    </tr>\n",
       "    <tr>\n",
       "      <th>63</th>\n",
       "      <td>2019-05-15</td>\n",
       "      <td>82</td>\n",
       "      <td>82480</td>\n",
       "      <td>82047</td>\n",
       "      <td>101</td>\n",
       "      <td>Doritos Salsa       Medium 300g</td>\n",
       "      <td>1</td>\n",
       "      <td>2.6</td>\n",
       "      <td>MIDAGE SINGLES/COUPLES</td>\n",
       "      <td>Budget</td>\n",
       "      <td>Doritos</td>\n",
       "      <td>300.0</td>\n",
       "    </tr>\n",
       "  </tbody>\n",
       "</table>\n",
       "</div>"
      ],
      "text/plain": [
       "         Date  Store ID  Card Number  Transaction ID  Product ID  \\\n",
       "5  2019-05-19         4         4074            2982          57   \n",
       "25 2019-05-15        39        39144           35506          57   \n",
       "32 2019-05-20        45        45127           41122          64   \n",
       "44 2018-08-18        56        56013           50090          39   \n",
       "63 2019-05-15        82        82480           82047         101   \n",
       "\n",
       "                                     Product  Quantity  Sales  \\\n",
       "5   Old El Paso Salsa   Dip Tomato Mild 300g         1    5.1   \n",
       "25  Old El Paso Salsa   Dip Tomato Mild 300g         1    5.1   \n",
       "32  Red Rock Deli SR    Salsa & Mzzrlla 150g         2    5.4   \n",
       "44     Smiths Crinkle Cut  Tomato Salsa 150g         1    2.6   \n",
       "63           Doritos Salsa       Medium 300g         1    2.6   \n",
       "\n",
       "                     Group Subscription    Brand   Size  \n",
       "5   MIDAGE SINGLES/COUPLES       Budget      Old  300.0  \n",
       "25  MIDAGE SINGLES/COUPLES       Budget      Old  300.0  \n",
       "32  MIDAGE SINGLES/COUPLES       Budget      Red  150.0  \n",
       "44  MIDAGE SINGLES/COUPLES       Budget   Smiths  150.0  \n",
       "63  MIDAGE SINGLES/COUPLES       Budget  Doritos  300.0  "
      ]
     },
     "execution_count": 77,
     "metadata": {},
     "output_type": "execute_result"
    }
   ],
   "source": [
    "# know if our target segment tends to buy larger packs of chips\n",
    "merged_pack = pd.concat([data, pack_size.rename(\"Size\")], axis = 1)\n",
    "merged_pack.head()"
   ]
  },
  {
   "cell_type": "code",
   "execution_count": 78,
   "id": "6b32b3fc",
   "metadata": {},
   "outputs": [
    {
     "name": "stdout",
     "output_type": "stream",
     "text": [
      "============ MIDAGE SINGLES/COUPLES - Budget ===========\n",
      "Doritos        54\n",
      "Old           144\n",
      "Woolworths     56\n",
      "Name: Brand, dtype: int64\n"
     ]
    },
    {
     "data": {
      "image/png": "[encoded data removed]",
      "text/plain": [
       "<Figure size 360x72 with 1 Axes>"
      ]
     },
     "metadata": {
      "needs_background": "light"
     },
     "output_type": "display_data"
    },
    {
     "name": "stdout",
     "output_type": "stream",
     "text": [
      "============ MIDAGE SINGLES/COUPLES - Mainstream ===========\n",
      "Doritos        81\n",
      "Old           501\n",
      "Woolworths     92\n",
      "Name: Brand, dtype: int64\n"
     ]
    },
    {
     "data": {
      "image/png": "[encoded data removed]",
      "text/plain": [
       "<Figure size 360x72 with 1 Axes>"
      ]
     },
     "metadata": {
      "needs_background": "light"
     },
     "output_type": "display_data"
    },
    {
     "name": "stdout",
     "output_type": "stream",
     "text": [
      "============ MIDAGE SINGLES/COUPLES - Premium ===========\n",
      "Doritos       103\n",
      "Old           270\n",
      "Woolworths    109\n",
      "Name: Brand, dtype: int64\n"
     ]
    },
    {
     "data": {
      "image/png": "[encoded data removed]",
      "text/plain": [
       "<Figure size 360x72 with 1 Axes>"
      ]
     },
     "metadata": {
      "needs_background": "light"
     },
     "output_type": "display_data"
    },
    {
     "name": "stdout",
     "output_type": "stream",
     "text": [
      "============ NEW FAMILIES - Budget ===========\n",
      "Doritos        28\n",
      "Old           107\n",
      "Woolworths     23\n",
      "Name: Brand, dtype: int64\n"
     ]
    },
    {
     "data": {
      "image/png": "[encoded data removed]",
      "text/plain": [
       "<Figure size 360x72 with 1 Axes>"
      ]
     },
     "metadata": {
      "needs_background": "light"
     },
     "output_type": "display_data"
    },
    {
     "name": "stdout",
     "output_type": "stream",
     "text": [
      "============ NEW FAMILIES - Mainstream ===========\n",
      "Doritos       17\n",
      "Old           82\n",
      "Woolworths    19\n",
      "Name: Brand, dtype: int64\n"
     ]
    },
    {
     "data": {
      "image/png": "[encoded data removed]",
      "text/plain": [
       "<Figure size 360x72 with 1 Axes>"
      ]
     },
     "metadata": {
      "needs_background": "light"
     },
     "output_type": "display_data"
    },
    {
     "name": "stdout",
     "output_type": "stream",
     "text": [
      "============ NEW FAMILIES - Premium ===========\n",
      "Doritos       13\n",
      "Old           56\n",
      "Woolworths    12\n",
      "Name: Brand, dtype: int64\n"
     ]
    },
    {
     "data": {
      "image/png": "[encoded data removed]",
      "text/plain": [
       "<Figure size 360x72 with 1 Axes>"
      ]
     },
     "metadata": {
      "needs_background": "light"
     },
     "output_type": "display_data"
    },
    {
     "name": "stdout",
     "output_type": "stream",
     "text": [
      "============ OLDER FAMILIES - Budget ===========\n",
      "Doritos       319\n",
      "Old           758\n",
      "Woolworths    275\n",
      "Name: Brand, dtype: int64\n"
     ]
    },
    {
     "data": {
      "image/png": "[encoded data removed]",
      "text/plain": [
       "<Figure size 360x72 with 1 Axes>"
      ]
     },
     "metadata": {
      "needs_background": "light"
     },
     "output_type": "display_data"
    },
    {
     "name": "stdout",
     "output_type": "stream",
     "text": [
      "============ OLDER FAMILIES - Mainstream ===========\n",
      "Doritos       186\n",
      "Old           474\n",
      "Woolworths    173\n",
      "Name: Brand, dtype: int64\n"
     ]
    },
    {
     "data": {
      "image/png": "[encoded data removed]",
      "text/plain": [
       "<Figure size 360x72 with 1 Axes>"
      ]
     },
     "metadata": {
      "needs_background": "light"
     },
     "output_type": "display_data"
    },
    {
     "name": "stdout",
     "output_type": "stream",
     "text": [
      "============ OLDER FAMILIES - Premium ===========\n",
      "Doritos       142\n",
      "Old           357\n",
      "Woolworths    145\n",
      "Name: Brand, dtype: int64\n"
     ]
    },
    {
     "data": {
      "image/png": "[encoded data removed]",
      "text/plain": [
       "<Figure size 360x72 with 1 Axes>"
      ]
     },
     "metadata": {
      "needs_background": "light"
     },
     "output_type": "display_data"
    },
    {
     "name": "stdout",
     "output_type": "stream",
     "text": [
      "============ OLDER SINGLES/COUPLES - Budget ===========\n",
      "Doritos       203\n",
      "Old           674\n",
      "Woolworths    185\n",
      "Name: Brand, dtype: int64\n"
     ]
    },
    {
     "data": {
      "image/png": "[encoded data removed]",
      "text/plain": [
       "<Figure size 360x72 with 1 Axes>"
      ]
     },
     "metadata": {
      "needs_background": "light"
     },
     "output_type": "display_data"
    },
    {
     "name": "stdout",
     "output_type": "stream",
     "text": [
      "============ OLDER SINGLES/COUPLES - Mainstream ===========\n",
      "Doritos       217\n",
      "Old           618\n",
      "Woolworths    207\n",
      "Name: Brand, dtype: int64\n"
     ]
    },
    {
     "data": {
      "image/png": "[encoded data removed]",
      "text/plain": [
       "<Figure size 360x72 with 1 Axes>"
      ]
     },
     "metadata": {
      "needs_background": "light"
     },
     "output_type": "display_data"
    },
    {
     "name": "stdout",
     "output_type": "stream",
     "text": [
      "============ OLDER SINGLES/COUPLES - Premium ===========\n",
      "Doritos       174\n",
      "Old           653\n",
      "Woolworths    185\n",
      "Name: Brand, dtype: int64\n"
     ]
    },
    {
     "data": {
      "image/png": "[encoded data removed]",
      "text/plain": [
       "<Figure size 360x72 with 1 Axes>"
      ]
     },
     "metadata": {
      "needs_background": "light"
     },
     "output_type": "display_data"
    },
    {
     "name": "stdout",
     "output_type": "stream",
     "text": [
      "============ RETIREES - Budget ===========\n",
      "Doritos       150\n",
      "Old           569\n",
      "Woolworths    118\n",
      "Name: Brand, dtype: int64\n"
     ]
    },
    {
     "data": {
      "image/png": "[encoded data removed]",
      "text/plain": [
       "<Figure size 360x72 with 1 Axes>"
      ]
     },
     "metadata": {
      "needs_background": "light"
     },
     "output_type": "display_data"
    },
    {
     "name": "stdout",
     "output_type": "stream",
     "text": [
      "============ RETIREES - Mainstream ===========\n",
      "Doritos       231\n",
      "Old           764\n",
      "Woolworths    269\n",
      "Name: Brand, dtype: int64\n"
     ]
    },
    {
     "data": {
      "image/png": "[encoded data removed]",
      "text/plain": [
       "<Figure size 360x72 with 1 Axes>"
      ]
     },
     "metadata": {
      "needs_background": "light"
     },
     "output_type": "display_data"
    },
    {
     "name": "stdout",
     "output_type": "stream",
     "text": [
      "============ RETIREES - Premium ===========\n",
      "Doritos       103\n",
      "Old           506\n",
      "Woolworths    119\n",
      "Name: Brand, dtype: int64\n"
     ]
    },
    {
     "data": {
      "image/png": "[encoded data removed]",
      "text/plain": [
       "<Figure size 360x72 with 1 Axes>"
      ]
     },
     "metadata": {
      "needs_background": "light"
     },
     "output_type": "display_data"
    },
    {
     "name": "stdout",
     "output_type": "stream",
     "text": [
      "============ YOUNG FAMILIES - Budget ===========\n",
      "Doritos       229\n",
      "Old           672\n",
      "Woolworths    226\n",
      "Name: Brand, dtype: int64\n"
     ]
    },
    {
     "data": {
      "image/png": "[encoded data removed]",
      "text/plain": [
       "<Figure size 360x72 with 1 Axes>"
      ]
     },
     "metadata": {
      "needs_background": "light"
     },
     "output_type": "display_data"
    },
    {
     "name": "stdout",
     "output_type": "stream",
     "text": [
      "============ YOUNG FAMILIES - Mainstream ===========\n",
      "Doritos       184\n",
      "Old           419\n",
      "Woolworths    183\n",
      "Name: Brand, dtype: int64\n"
     ]
    },
    {
     "data": {
      "image/png": "[encoded data removed]",
      "text/plain": [
       "<Figure size 360x72 with 1 Axes>"
      ]
     },
     "metadata": {
      "needs_background": "light"
     },
     "output_type": "display_data"
    },
    {
     "name": "stdout",
     "output_type": "stream",
     "text": [
      "============ YOUNG FAMILIES - Premium ===========\n",
      "Doritos       127\n",
      "Old           376\n",
      "Woolworths    141\n",
      "Name: Brand, dtype: int64\n"
     ]
    },
    {
     "data": {
      "image/png": "[encoded data removed]",
      "text/plain": [
       "<Figure size 360x72 with 1 Axes>"
      ]
     },
     "metadata": {
      "needs_background": "light"
     },
     "output_type": "display_data"
    },
    {
     "name": "stdout",
     "output_type": "stream",
     "text": [
      "============ YOUNG SINGLES/COUPLES - Budget ===========\n",
      "Doritos       117\n",
      "Old           279\n",
      "Woolworths    159\n",
      "Name: Brand, dtype: int64\n"
     ]
    },
    {
     "data": {
      "image/png": "[encoded data removed]",
      "text/plain": [
       "<Figure size 360x72 with 1 Axes>"
      ]
     },
     "metadata": {
      "needs_background": "light"
     },
     "output_type": "display_data"
    },
    {
     "name": "stdout",
     "output_type": "stream",
     "text": [
      "============ YOUNG SINGLES/COUPLES - Mainstream ===========\n",
      "Doritos       162\n",
      "Old           867\n",
      "Woolworths    120\n",
      "Name: Brand, dtype: int64\n"
     ]
    },
    {
     "data": {
      "image/png": "[encoded data removed]",
      "text/plain": [
       "<Figure size 360x72 with 1 Axes>"
      ]
     },
     "metadata": {
      "needs_background": "light"
     },
     "output_type": "display_data"
    },
    {
     "name": "stdout",
     "output_type": "stream",
     "text": [
      "============ YOUNG SINGLES/COUPLES - Premium ===========\n",
      "Doritos        81\n",
      "Old           178\n",
      "Woolworths    105\n",
      "Name: Brand, dtype: int64\n"
     ]
    },
    {
     "data": {
      "image/png": "[encoded data removed]",
      "text/plain": [
       "<Figure size 360x72 with 1 Axes>"
      ]
     },
     "metadata": {
      "needs_background": "light"
     },
     "output_type": "display_data"
    }
   ],
   "source": [
    "for stage in data[\"Group\"].unique():\n",
    "    for subs in data[\"Subscription\"].unique():\n",
    "        print(\"============\", stage, \"-\" , subs, \"===========\")\n",
    "        summary = merged_pack[(merged_pack[\"Group\"] == stage) & (merged_pack[\"Subscription\"] == subs)][\"Brand\"].value_counts().head(3).sort_index()\n",
    "        print(summary)\n",
    "        plt.figure()\n",
    "        summary.plot.barh(figsize = (5,1))\n",
    "        plt.show()"
   ]
  },
  {
   "cell_type": "code",
   "execution_count": 80,
   "id": "2130d336",
   "metadata": {},
   "outputs": [
    {
     "data": {
      "text/html": [
       "<div>\n",
       "<style scoped>\n",
       "    .dataframe tbody tr th:only-of-type {\n",
       "        vertical-align: middle;\n",
       "    }\n",
       "\n",
       "    .dataframe tbody tr th {\n",
       "        vertical-align: top;\n",
       "    }\n",
       "\n",
       "    .dataframe thead th {\n",
       "        text-align: right;\n",
       "    }\n",
       "</style>\n",
       "<table border=\"1\" class=\"dataframe\">\n",
       "  <thead>\n",
       "    <tr style=\"text-align: right;\">\n",
       "      <th></th>\n",
       "      <th></th>\n",
       "      <th>0</th>\n",
       "    </tr>\n",
       "    <tr>\n",
       "      <th>Group</th>\n",
       "      <th>Subscription</th>\n",
       "      <th></th>\n",
       "    </tr>\n",
       "  </thead>\n",
       "  <tbody>\n",
       "    <tr>\n",
       "      <th rowspan=\"2\" valign=\"top\">OLDER FAMILIES</th>\n",
       "      <th>Premium</th>\n",
       "      <td>2.515599</td>\n",
       "    </tr>\n",
       "    <tr>\n",
       "      <th>Budget</th>\n",
       "      <td>2.433333</td>\n",
       "    </tr>\n",
       "    <tr>\n",
       "      <th rowspan=\"2\" valign=\"top\">YOUNG FAMILIES</th>\n",
       "      <th>Mainstream</th>\n",
       "      <td>2.421466</td>\n",
       "    </tr>\n",
       "    <tr>\n",
       "      <th>Premium</th>\n",
       "      <td>2.408000</td>\n",
       "    </tr>\n",
       "    <tr>\n",
       "      <th>OLDER FAMILIES</th>\n",
       "      <th>Mainstream</th>\n",
       "      <td>2.392157</td>\n",
       "    </tr>\n",
       "    <tr>\n",
       "      <th>YOUNG FAMILIES</th>\n",
       "      <th>Budget</th>\n",
       "      <td>2.362084</td>\n",
       "    </tr>\n",
       "    <tr>\n",
       "      <th rowspan=\"3\" valign=\"top\">OLDER SINGLES/COUPLES</th>\n",
       "      <th>Premium</th>\n",
       "      <td>2.232943</td>\n",
       "    </tr>\n",
       "    <tr>\n",
       "      <th>Mainstream</th>\n",
       "      <td>2.212963</td>\n",
       "    </tr>\n",
       "    <tr>\n",
       "      <th>Budget</th>\n",
       "      <td>2.198495</td>\n",
       "    </tr>\n",
       "    <tr>\n",
       "      <th rowspan=\"3\" valign=\"top\">MIDAGE SINGLES/COUPLES</th>\n",
       "      <th>Premium</th>\n",
       "      <td>2.194932</td>\n",
       "    </tr>\n",
       "    <tr>\n",
       "      <th>Mainstream</th>\n",
       "      <td>2.188513</td>\n",
       "    </tr>\n",
       "    <tr>\n",
       "      <th>Budget</th>\n",
       "      <td>2.173759</td>\n",
       "    </tr>\n",
       "    <tr>\n",
       "      <th rowspan=\"3\" valign=\"top\">RETIREES</th>\n",
       "      <th>Mainstream</th>\n",
       "      <td>2.172018</td>\n",
       "    </tr>\n",
       "    <tr>\n",
       "      <th>Premium</th>\n",
       "      <td>2.157333</td>\n",
       "    </tr>\n",
       "    <tr>\n",
       "      <th>Budget</th>\n",
       "      <td>2.096110</td>\n",
       "    </tr>\n",
       "    <tr>\n",
       "      <th>YOUNG SINGLES/COUPLES</th>\n",
       "      <th>Mainstream</th>\n",
       "      <td>2.029511</td>\n",
       "    </tr>\n",
       "    <tr>\n",
       "      <th rowspan=\"3\" valign=\"top\">NEW FAMILIES</th>\n",
       "      <th>Premium</th>\n",
       "      <td>2.021505</td>\n",
       "    </tr>\n",
       "    <tr>\n",
       "      <th>Mainstream</th>\n",
       "      <td>2.007752</td>\n",
       "    </tr>\n",
       "    <tr>\n",
       "      <th>Budget</th>\n",
       "      <td>1.952663</td>\n",
       "    </tr>\n",
       "    <tr>\n",
       "      <th rowspan=\"2\" valign=\"top\">YOUNG SINGLES/COUPLES</th>\n",
       "      <th>Premium</th>\n",
       "      <td>1.933504</td>\n",
       "    </tr>\n",
       "    <tr>\n",
       "      <th>Budget</th>\n",
       "      <td>1.891761</td>\n",
       "    </tr>\n",
       "  </tbody>\n",
       "</table>\n",
       "</div>"
      ],
      "text/plain": [
       "                                            0\n",
       "Group                  Subscription          \n",
       "OLDER FAMILIES         Premium       2.515599\n",
       "                       Budget        2.433333\n",
       "YOUNG FAMILIES         Mainstream    2.421466\n",
       "                       Premium       2.408000\n",
       "OLDER FAMILIES         Mainstream    2.392157\n",
       "YOUNG FAMILIES         Budget        2.362084\n",
       "OLDER SINGLES/COUPLES  Premium       2.232943\n",
       "                       Mainstream    2.212963\n",
       "                       Budget        2.198495\n",
       "MIDAGE SINGLES/COUPLES Premium       2.194932\n",
       "                       Mainstream    2.188513\n",
       "                       Budget        2.173759\n",
       "RETIREES               Mainstream    2.172018\n",
       "                       Premium       2.157333\n",
       "                       Budget        2.096110\n",
       "YOUNG SINGLES/COUPLES  Mainstream    2.029511\n",
       "NEW FAMILIES           Premium       2.021505\n",
       "                       Mainstream    2.007752\n",
       "                       Budget        1.952663\n",
       "YOUNG SINGLES/COUPLES  Premium       1.933504\n",
       "                       Budget        1.891761"
      ]
     },
     "execution_count": 80,
     "metadata": {},
     "output_type": "execute_result"
    }
   ],
   "source": [
    "#average amount of chips per customer\n",
    "avg_chips = (data.groupby([\"Group\", \"Subscription\"])[\"Quantity\"].sum()/data.groupby([\"Group\", \"Subscription\"])[\"Card Number\"].nunique()).sort_values(ascending = False).to_frame()\n",
    "avg_chips"
   ]
  },
  {
   "cell_type": "code",
   "execution_count": 82,
   "id": "cb09d985",
   "metadata": {},
   "outputs": [
    {
     "data": {
      "image/png": "[encoded data removed]",
      "text/plain": [
       "<Figure size 1080x288 with 1 Axes>"
      ]
     },
     "metadata": {
      "needs_background": "light"
     },
     "output_type": "display_data"
    }
   ],
   "source": [
    "#Histogram\n",
    "avg_chips.unstack().plot.bar(figsize =(15,4), rot = 0)\n",
    "plt.title(\"Average amount of chips bought per customer\")\n",
    "plt.legend(loc=\"center left\", bbox_to_anchor=(1.0,0.5))\n",
    "plt.ylabel(\"Quantity\")\n",
    "plt.show()"
   ]
  },
  {
   "cell_type": "code",
   "execution_count": 83,
   "id": "008a057c",
   "metadata": {},
   "outputs": [
    {
     "data": {
      "text/html": [
       "<div>\n",
       "<style scoped>\n",
       "    .dataframe tbody tr th:only-of-type {\n",
       "        vertical-align: middle;\n",
       "    }\n",
       "\n",
       "    .dataframe tbody tr th {\n",
       "        vertical-align: top;\n",
       "    }\n",
       "\n",
       "    .dataframe thead th {\n",
       "        text-align: right;\n",
       "    }\n",
       "</style>\n",
       "<table border=\"1\" class=\"dataframe\">\n",
       "  <thead>\n",
       "    <tr style=\"text-align: right;\">\n",
       "      <th></th>\n",
       "      <th></th>\n",
       "      <th>Unit Price</th>\n",
       "    </tr>\n",
       "    <tr>\n",
       "      <th>Group</th>\n",
       "      <th>Subscription</th>\n",
       "      <th></th>\n",
       "    </tr>\n",
       "  </thead>\n",
       "  <tbody>\n",
       "    <tr>\n",
       "      <th>YOUNG SINGLES/COUPLES</th>\n",
       "      <th>Mainstream</th>\n",
       "      <td>4.158656</td>\n",
       "    </tr>\n",
       "    <tr>\n",
       "      <th>MIDAGE SINGLES/COUPLES</th>\n",
       "      <th>Mainstream</th>\n",
       "      <td>4.083569</td>\n",
       "    </tr>\n",
       "    <tr>\n",
       "      <th>NEW FAMILIES</th>\n",
       "      <th>Budget</th>\n",
       "      <td>3.943646</td>\n",
       "    </tr>\n",
       "    <tr>\n",
       "      <th rowspan=\"2\" valign=\"top\">RETIREES</th>\n",
       "      <th>Budget</th>\n",
       "      <td>3.931865</td>\n",
       "    </tr>\n",
       "    <tr>\n",
       "      <th>Premium</th>\n",
       "      <td>3.926744</td>\n",
       "    </tr>\n",
       "    <tr>\n",
       "      <th rowspan=\"2\" valign=\"top\">NEW FAMILIES</th>\n",
       "      <th>Mainstream</th>\n",
       "      <td>3.923571</td>\n",
       "    </tr>\n",
       "    <tr>\n",
       "      <th>Premium</th>\n",
       "      <td>3.866337</td>\n",
       "    </tr>\n",
       "    <tr>\n",
       "      <th rowspan=\"2\" valign=\"top\">OLDER SINGLES/COUPLES</th>\n",
       "      <th>Budget</th>\n",
       "      <td>3.806478</td>\n",
       "    </tr>\n",
       "    <tr>\n",
       "      <th>Premium</th>\n",
       "      <td>3.804523</td>\n",
       "    </tr>\n",
       "    <tr>\n",
       "      <th>RETIREES</th>\n",
       "      <th>Mainstream</th>\n",
       "      <td>3.687166</td>\n",
       "    </tr>\n",
       "    <tr>\n",
       "      <th>YOUNG FAMILIES</th>\n",
       "      <th>Budget</th>\n",
       "      <td>3.661148</td>\n",
       "    </tr>\n",
       "    <tr>\n",
       "      <th>OLDER SINGLES/COUPLES</th>\n",
       "      <th>Mainstream</th>\n",
       "      <td>3.656325</td>\n",
       "    </tr>\n",
       "    <tr>\n",
       "      <th>YOUNG FAMILIES</th>\n",
       "      <th>Premium</th>\n",
       "      <td>3.617458</td>\n",
       "    </tr>\n",
       "    <tr>\n",
       "      <th rowspan=\"3\" valign=\"top\">OLDER FAMILIES</th>\n",
       "      <th>Mainstream</th>\n",
       "      <td>3.599402</td>\n",
       "    </tr>\n",
       "    <tr>\n",
       "      <th>Budget</th>\n",
       "      <td>3.576549</td>\n",
       "    </tr>\n",
       "    <tr>\n",
       "      <th>Premium</th>\n",
       "      <td>3.541042</td>\n",
       "    </tr>\n",
       "    <tr>\n",
       "      <th rowspan=\"2\" valign=\"top\">MIDAGE SINGLES/COUPLES</th>\n",
       "      <th>Premium</th>\n",
       "      <td>3.528808</td>\n",
       "    </tr>\n",
       "    <tr>\n",
       "      <th>Budget</th>\n",
       "      <td>3.517021</td>\n",
       "    </tr>\n",
       "    <tr>\n",
       "      <th>YOUNG FAMILIES</th>\n",
       "      <th>Mainstream</th>\n",
       "      <td>3.490104</td>\n",
       "    </tr>\n",
       "    <tr>\n",
       "      <th rowspan=\"2\" valign=\"top\">YOUNG SINGLES/COUPLES</th>\n",
       "      <th>Budget</th>\n",
       "      <td>3.385426</td>\n",
       "    </tr>\n",
       "    <tr>\n",
       "      <th>Premium</th>\n",
       "      <td>3.374126</td>\n",
       "    </tr>\n",
       "  </tbody>\n",
       "</table>\n",
       "</div>"
      ],
      "text/plain": [
       "                                     Unit Price\n",
       "Group                  Subscription            \n",
       "YOUNG SINGLES/COUPLES  Mainstream      4.158656\n",
       "MIDAGE SINGLES/COUPLES Mainstream      4.083569\n",
       "NEW FAMILIES           Budget          3.943646\n",
       "RETIREES               Budget          3.931865\n",
       "                       Premium         3.926744\n",
       "NEW FAMILIES           Mainstream      3.923571\n",
       "                       Premium         3.866337\n",
       "OLDER SINGLES/COUPLES  Budget          3.806478\n",
       "                       Premium         3.804523\n",
       "RETIREES               Mainstream      3.687166\n",
       "YOUNG FAMILIES         Budget          3.661148\n",
       "OLDER SINGLES/COUPLES  Mainstream      3.656325\n",
       "YOUNG FAMILIES         Premium         3.617458\n",
       "OLDER FAMILIES         Mainstream      3.599402\n",
       "                       Budget          3.576549\n",
       "                       Premium         3.541042\n",
       "MIDAGE SINGLES/COUPLES Premium         3.528808\n",
       "                       Budget          3.517021\n",
       "YOUNG FAMILIES         Mainstream      3.490104\n",
       "YOUNG SINGLES/COUPLES  Budget          3.385426\n",
       "                       Premium         3.374126"
      ]
     },
     "execution_count": 83,
     "metadata": {},
     "output_type": "execute_result"
    }
   ],
   "source": [
    "data[\"Unit Price\"] = data[\"Sales\"] / data[\"Quantity\"]\n",
    "chips_segment = data.groupby([\"Group\",\"Subscription\"]).mean()[\"Unit Price\"].sort_values(ascending =False).to_frame()\n",
    "chips_segment"
   ]
  },
  {
   "cell_type": "code",
   "execution_count": 84,
   "id": "3a40f450",
   "metadata": {},
   "outputs": [
    {
     "data": {
      "image/png": "[encoded data removed]",
      "text/plain": [
       "<Figure size 1080x288 with 1 Axes>"
      ]
     },
     "metadata": {
      "needs_background": "light"
     },
     "output_type": "display_data"
    }
   ],
   "source": [
    "chips_segment.unstack().plot.bar(figsize =(15,4), rot = 0)\n",
    "plt.legend(loc=\"center left\", bbox_to_anchor=(1.0,0.5))\n",
    "plt.show()"
   ]
  },
  {
   "cell_type": "code",
   "execution_count": null,
   "id": "25edc0a3",
   "metadata": {},
   "outputs": [],
   "source": []
  }
 ],
 "metadata": {
  "kernelspec": {
   "display_name": "Python 3",
   "language": "python",
   "name": "python3"
  },
  "language_info": {
   "codemirror_mode": {
    "name": "ipython",
    "version": 3
   },
   "file_extension": ".py",
   "mimetype": "text/x-python",
   "name": "python",
   "nbconvert_exporter": "python",
   "pygments_lexer": "ipython3",
   "version": "3.8.8"
  }
 },
 "nbformat": 4,
 "nbformat_minor": 5
}
